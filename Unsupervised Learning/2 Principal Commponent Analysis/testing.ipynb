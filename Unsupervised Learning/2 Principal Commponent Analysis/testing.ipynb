{
 "cells": [
  {
   "cell_type": "markdown",
   "metadata": {},
   "source": [
    "Standard deviation is a measure of the dispersion or variability of a set of values in a dataset. It quantifies how much the values in a dataset differ from the mean of the dataset. A low standard deviation indicates that the values are close to the mean, while a high standard deviation indicates that the values are spread out over a wider range.\n",
    "\n",
    "The standard deviation is calculated using the following formula:\n",
    "\n",
    "\\[ \\sigma = \\sqrt{\\frac{\\sum_{i=1}^{n} (x_i - \\mu)^2}{n}} \\]\n",
    "\n",
    "Where:\n",
    "- \\( \\sigma \\) is the standard deviation.\n",
    "- \\( x_i \\) represents each individual value in the dataset.\n",
    "- \\( \\mu \\) is the mean of the dataset.\n",
    "- \\( n \\) is the number of values in the dataset.\n",
    "\n",
    "Let's go through an example to calculate the standard deviation for a small dataset:\n",
    "\n",
    "Consider the dataset:\n",
    "\\[ X = [5, 10, 15, 20, 25] \\]\n",
    "\n",
    "1. **Calculate the Mean (\\( \\mu \\))**:\n",
    "   \\[ \\mu = \\frac{5 + 10 + 15 + 20 + 25}{5} = \\frac{75}{5} = 15 \\]\n",
    "\n",
    "2. **Calculate the Variance**:\n",
    "   - Calculate the squared differences from the mean for each value:\n",
    "     \\[ (5 - 15)^2 = 100 \\]\n",
    "     \\[ (10 - 15)^2 = 25 \\]\n",
    "     \\[ (15 - 15)^2 = 0 \\]\n",
    "     \\[ (20 - 15)^2 = 25 \\]\n",
    "     \\[ (25 - 15)^2 = 100 \\]\n",
    "   - Calculate the variance:\n",
    "     \\[ \\text{Variance} = \\frac{100 + 25 + 0 + 25 + 100}{5} = \\frac{250}{5} = 50 \\]\n",
    "\n",
    "3. **Calculate the Standard Deviation (\\( \\sigma \\))**:\n",
    "   - Take the square root of the variance:\n",
    "     \\[ \\sigma = \\sqrt{50} \\approx 7.07 \\]\n",
    "\n",
    "Therefore, the standard deviation of the dataset \\( X = [5, 10, 15, 20, 25] \\) is approximately 7.07. This indicates the spread or dispersion of the values around the mean of 15."
   ]
  },
  {
   "cell_type": "markdown",
   "metadata": {},
   "source": []
  },
  {
   "cell_type": "code",
   "execution_count": 35,
   "metadata": {},
   "outputs": [],
   "source": [
    "from sklearn.preprocessing import scale\n",
    "import pandas as pd\n",
    "import numpy as np\n",
    "import matplotlib.pyplot as plt\n",
    "from sklearn.decomposition import PCA"
   ]
  },
  {
   "cell_type": "code",
   "execution_count": 25,
   "metadata": {},
   "outputs": [],
   "source": [
    "us_df= pd.read_csv('acs2015_county_data.csv').dropna()"
   ]
  },
  {
   "cell_type": "code",
   "execution_count": 26,
   "metadata": {},
   "outputs": [],
   "source": [
    "labels = ['CensusId', 'State', 'County']"
   ]
  },
  {
   "cell_type": "code",
   "execution_count": 30,
   "metadata": {},
   "outputs": [],
   "source": [
    "features = us_df.drop(labels,axis = 1)      "
   ]
  },
  {
   "cell_type": "code",
   "execution_count": 32,
   "metadata": {},
   "outputs": [],
   "source": [
    "us_scaled = scale(features)"
   ]
  },
  {
   "cell_type": "code",
   "execution_count": 37,
   "metadata": {},
   "outputs": [
    {
     "data": {
      "text/plain": [
       "array([[ 4.42934293e-01,  5.18969413e-01, -1.59499024e+00, ...,\n",
       "        -4.29625446e-01, -7.91981003e-02, -2.96048593e-02],\n",
       "       [ 1.71989852e+00,  3.43068145e-01, -1.66609490e+00, ...,\n",
       "        -4.11465700e-02,  1.15833114e+00,  2.06054001e-01],\n",
       "       [-1.75940609e+00,  3.69092706e+00,  7.07138712e-03, ...,\n",
       "        -1.14593387e+00,  5.99572336e-01, -9.22270266e-01],\n",
       "       ...,\n",
       "       [-4.14477054e+00,  7.00634238e+00,  4.08624219e+00, ...,\n",
       "        -1.47155607e+00, -1.37838261e+00, -4.67169874e-01],\n",
       "       [-3.58184259e+00,  7.45413922e+00,  3.76754665e+00, ...,\n",
       "        -5.18276192e-01, -1.48977485e+00,  9.62547378e-01],\n",
       "       [-2.99379525e+00,  7.39835693e+00,  3.32653897e+00, ...,\n",
       "        -1.19875324e+00, -4.38306390e-01,  2.83486576e-01]])"
      ]
     },
     "execution_count": 37,
     "metadata": {},
     "output_type": "execute_result"
    }
   ],
   "source": [
    "pca = PCA(.85)\n",
    "pca.fit_transform(us_scaled)\n",
    "\n"
   ]
  },
  {
   "cell_type": "code",
   "execution_count": 39,
   "metadata": {},
   "outputs": [
    {
     "data": {
      "text/plain": [
       "array([0.20059818, 0.17109461, 0.13235941, 0.06281225, 0.05108803,\n",
       "       0.0428644 , 0.03679227, 0.03265611, 0.03195313, 0.03024532,\n",
       "       0.02677679, 0.02469989, 0.02231643])"
      ]
     },
     "execution_count": 39,
     "metadata": {},
     "output_type": "execute_result"
    }
   ],
   "source": [
    "pca.explained_variance_ratio_"
   ]
  },
  {
   "cell_type": "code",
   "execution_count": 41,
   "metadata": {},
   "outputs": [
    {
     "data": {
      "text/plain": [
       "13"
      ]
     },
     "execution_count": 41,
     "metadata": {},
     "output_type": "execute_result"
    }
   ],
   "source": [
    "len(pca.components_)"
   ]
  },
  {
   "cell_type": "code",
   "execution_count": null,
   "metadata": {},
   "outputs": [],
   "source": []
  },
  {
   "cell_type": "code",
   "execution_count": null,
   "metadata": {},
   "outputs": [],
   "source": []
  }
 ],
 "metadata": {
  "kernelspec": {
   "display_name": "Red",
   "language": "python",
   "name": "python3"
  },
  "language_info": {
   "codemirror_mode": {
    "name": "ipython",
    "version": 3
   },
   "file_extension": ".py",
   "mimetype": "text/x-python",
   "name": "python",
   "nbconvert_exporter": "python",
   "pygments_lexer": "ipython3",
   "version": "3.11.7"
  }
 },
 "nbformat": 4,
 "nbformat_minor": 2
}
