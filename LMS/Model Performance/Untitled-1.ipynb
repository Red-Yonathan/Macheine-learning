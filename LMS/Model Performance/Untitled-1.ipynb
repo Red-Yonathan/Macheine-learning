{
 "cells": [
  {
   "cell_type": "code",
   "execution_count": 2,
   "metadata": {},
   "outputs": [],
   "source": [
    "# import sqlite3\n",
    "# import pandas as pd\n",
    "# connection = sqlite3.connect(\"Maji_Ndogo_farm_survey_small.db\")\n",
    "# cursor = connection.cursor()\n",
    "# query = \"SELECT * From Geographic_features\"\n",
    "# cursor.execute(query)\n",
    "\n",
    "# result = cursor.fetchall()\n",
    "# for i in result:\n",
    "#     print(i)\n"
   ]
  },
  {
   "cell_type": "code",
   "execution_count": null,
   "metadata": {},
   "outputs": [],
   "source": []
  },
  {
   "cell_type": "code",
   "execution_count": 3,
   "metadata": {},
   "outputs": [
    {
     "name": "stderr",
     "output_type": "stream",
     "text": [
      "C:\\Users\\redyo\\AppData\\Local\\Temp\\ipykernel_3460\\3503323292.py:2: DeprecationWarning: \n",
      "Pyarrow will become a required dependency of pandas in the next major release of pandas (pandas 3.0),\n",
      "(to allow more performant data types, such as the Arrow string type, and better interoperability with other libraries)\n",
      "but was not found to be installed on your system.\n",
      "If this would cause problems for you,\n",
      "please provide us feedback at https://github.com/pandas-dev/pandas/issues/54466\n",
      "        \n",
      "  import pandas as pd\n"
     ]
    },
    {
     "data": {
      "text/html": [
       "<div>\n",
       "<style scoped>\n",
       "    .dataframe tbody tr th:only-of-type {\n",
       "        vertical-align: middle;\n",
       "    }\n",
       "\n",
       "    .dataframe tbody tr th {\n",
       "        vertical-align: top;\n",
       "    }\n",
       "\n",
       "    .dataframe thead th {\n",
       "        text-align: right;\n",
       "    }\n",
       "</style>\n",
       "<table border=\"1\" class=\"dataframe\">\n",
       "  <thead>\n",
       "    <tr style=\"text-align: right;\">\n",
       "      <th></th>\n",
       "      <th>Field_ID</th>\n",
       "      <th>Elevation</th>\n",
       "      <th>Latitude</th>\n",
       "      <th>Longitude</th>\n",
       "      <th>Location</th>\n",
       "      <th>Slope</th>\n",
       "    </tr>\n",
       "  </thead>\n",
       "  <tbody>\n",
       "    <tr>\n",
       "      <th>0</th>\n",
       "      <td>40734</td>\n",
       "      <td>786.05580</td>\n",
       "      <td>-7.389911</td>\n",
       "      <td>-7.556202</td>\n",
       "      <td>Rural_Akatsi</td>\n",
       "      <td>14.795113</td>\n",
       "    </tr>\n",
       "    <tr>\n",
       "      <th>1</th>\n",
       "      <td>30629</td>\n",
       "      <td>674.33410</td>\n",
       "      <td>-7.736849</td>\n",
       "      <td>-1.051539</td>\n",
       "      <td>Rural_Sokoto</td>\n",
       "      <td>11.374611</td>\n",
       "    </tr>\n",
       "    <tr>\n",
       "      <th>2</th>\n",
       "      <td>39924</td>\n",
       "      <td>826.53390</td>\n",
       "      <td>-9.926616</td>\n",
       "      <td>0.115156</td>\n",
       "      <td>Rural_Sokoto</td>\n",
       "      <td>11.339692</td>\n",
       "    </tr>\n",
       "    <tr>\n",
       "      <th>3</th>\n",
       "      <td>5754</td>\n",
       "      <td>574.94617</td>\n",
       "      <td>-2.420131</td>\n",
       "      <td>-6.592215</td>\n",
       "      <td>Rural_Kilimani</td>\n",
       "      <td>7.109855</td>\n",
       "    </tr>\n",
       "    <tr>\n",
       "      <th>4</th>\n",
       "      <td>14146</td>\n",
       "      <td>886.35300</td>\n",
       "      <td>-3.055434</td>\n",
       "      <td>-7.952609</td>\n",
       "      <td>Rural_Kilimani</td>\n",
       "      <td>55.007656</td>\n",
       "    </tr>\n",
       "  </tbody>\n",
       "</table>\n",
       "</div>"
      ],
      "text/plain": [
       "   Field_ID  Elevation  Latitude  Longitude        Location      Slope\n",
       "0     40734  786.05580 -7.389911  -7.556202    Rural_Akatsi  14.795113\n",
       "1     30629  674.33410 -7.736849  -1.051539    Rural_Sokoto  11.374611\n",
       "2     39924  826.53390 -9.926616   0.115156    Rural_Sokoto  11.339692\n",
       "3      5754  574.94617 -2.420131  -6.592215  Rural_Kilimani   7.109855\n",
       "4     14146  886.35300 -3.055434  -7.952609  Rural_Kilimani  55.007656"
      ]
     },
     "execution_count": 3,
     "metadata": {},
     "output_type": "execute_result"
    }
   ],
   "source": [
    "import sqlite3\n",
    "import pandas as pd\n",
    "Tables = {\"Geographic_features\",\"Soil and crop features\",\"Weather_features\",\" Farm_management_features\",\"Target variable\"}\n",
    "connection = sqlite3.connect(\"Maji_Ndogo_farm_survey_small.db\")\n",
    "query = \"SELECT * From Geographic_features\"\n",
    "# df = pd.read_sql_query(\"Maji_Ndogo_farm_survey_small.db\",connection)\n",
    "df = pd.read_sql_query(query,connection)\n",
    "df.head()"
   ]
  },
  {
   "cell_type": "code",
   "execution_count": 4,
   "metadata": {},
   "outputs": [
    {
     "data": {
      "text/plain": [
       "Index(['Field_ID', 'Elevation', 'Latitude', 'Longitude', 'Location', 'Slope'], dtype='object')"
      ]
     },
     "execution_count": 4,
     "metadata": {},
     "output_type": "execute_result"
    }
   ],
   "source": [
    "df.columns\n"
   ]
  },
  {
   "cell_type": "code",
   "execution_count": 5,
   "metadata": {},
   "outputs": [
    {
     "name": "stdout",
     "output_type": "stream",
     "text": [
      "Table Names and Attributes:\n"
     ]
    }
   ],
   "source": [
    "import sqlite3\n",
    "\n",
    "def get_table_info(db_file):\n",
    "    \"\"\"\n",
    "    Gets all table names and their attributes (columns) from a SQLite database.\n",
    "\n",
    "    Args:\n",
    "        db_file (str): The path to the SQLite database file.\n",
    "\n",
    "    Returns:\n",
    "        dict: A dictionary where keys are table names and values are lists of column names.\n",
    "    \"\"\"\n",
    "\n",
    "    connection = sqlite3.connect(db_file)\n",
    "    cursor = connection.cursor()\n",
    "\n",
    "    # Get table names\n",
    "    cursor.execute(\"SELECT name FROM sqlite_master WHERE type='table';\")\n",
    "    table_names = [row[0] for row in cursor.fetchall()]\n",
    "\n",
    "    # Get column attributes for each table\n",
    "    table_info = {}\n",
    "    for table_name in table_names:\n",
    "        cursor.execute(f\"PRAGMA table_info('{table_name}');\")\n",
    "        column_names = [row[1] for row in cursor.fetchall()]\n",
    "        table_info[table_name] = column_names\n",
    "\n",
    "    connection.close()\n",
    "    return table_info\n",
    "\n",
    "if __name__ == \"__main__\":\n",
    "    db_file = \"your_database.db\"  # Replace with your actual database file path\n",
    "    table_info = get_table_info(db_file)\n",
    "\n",
    "    print(\"Table Names and Attributes:\")\n",
    "    for table_name, columns in table_info.items():\n",
    "        print(f\"- Table: {table_name}\")\n",
    "        print(f\"  Columns: {', '.join(columns)}\")\n",
    "        print()\n"
   ]
  },
  {
   "cell_type": "code",
   "execution_count": 6,
   "metadata": {},
   "outputs": [
    {
     "data": {
      "text/plain": [
       "[('geographic_features',),\n",
       " ('weather_features',),\n",
       " ('soil_and_crop_features',),\n",
       " ('farm_management_features',)]"
      ]
     },
     "execution_count": 6,
     "metadata": {},
     "output_type": "execute_result"
    }
   ],
   "source": [
    "connection = sqlite3.connect(\"Maji_Ndogo_farm_survey_small.db\")\n",
    "cursor = connection.cursor()\n",
    "query = \"SELECT name FROM sqlite_master WHERE type = 'table';\"\n",
    "cursor.execute(query)\n",
    "table = cursor.fetchall()\n",
    "table"
   ]
  },
  {
   "cell_type": "code",
   "execution_count": 7,
   "metadata": {},
   "outputs": [
    {
     "name": "stdout",
     "output_type": "stream",
     "text": [
      "['Field_ID', 'Elevation', 'Latitude', 'Longitude', 'Location', 'Slope']\n"
     ]
    }
   ],
   "source": [
    "query2 = \"PRAGMA table_info(geographic_features)\"\n",
    "cursor.execute(query2)\n",
    "columns = cursor.fetchall()\n",
    "# print(columns)\n",
    "fields = [i[1] for i in columns]\n",
    "print(fields)"
   ]
  },
  {
   "cell_type": "code",
   "execution_count": 8,
   "metadata": {},
   "outputs": [
    {
     "data": {
      "text/html": [
       "<div>\n",
       "<style scoped>\n",
       "    .dataframe tbody tr th:only-of-type {\n",
       "        vertical-align: middle;\n",
       "    }\n",
       "\n",
       "    .dataframe tbody tr th {\n",
       "        vertical-align: top;\n",
       "    }\n",
       "\n",
       "    .dataframe thead th {\n",
       "        text-align: right;\n",
       "    }\n",
       "</style>\n",
       "<table border=\"1\" class=\"dataframe\">\n",
       "  <thead>\n",
       "    <tr style=\"text-align: right;\">\n",
       "      <th></th>\n",
       "      <th>Field_ID</th>\n",
       "      <th>Elevation</th>\n",
       "      <th>Latitude</th>\n",
       "      <th>Longitude</th>\n",
       "      <th>Location</th>\n",
       "      <th>Slope</th>\n",
       "    </tr>\n",
       "  </thead>\n",
       "  <tbody>\n",
       "    <tr>\n",
       "      <th>0</th>\n",
       "      <td>40734</td>\n",
       "      <td>786.05580</td>\n",
       "      <td>-7.389911</td>\n",
       "      <td>-7.556202</td>\n",
       "      <td>Rural_Akatsi</td>\n",
       "      <td>14.795113</td>\n",
       "    </tr>\n",
       "    <tr>\n",
       "      <th>1</th>\n",
       "      <td>30629</td>\n",
       "      <td>674.33410</td>\n",
       "      <td>-7.736849</td>\n",
       "      <td>-1.051539</td>\n",
       "      <td>Rural_Sokoto</td>\n",
       "      <td>11.374611</td>\n",
       "    </tr>\n",
       "    <tr>\n",
       "      <th>2</th>\n",
       "      <td>39924</td>\n",
       "      <td>826.53390</td>\n",
       "      <td>-9.926616</td>\n",
       "      <td>0.115156</td>\n",
       "      <td>Rural_Sokoto</td>\n",
       "      <td>11.339692</td>\n",
       "    </tr>\n",
       "    <tr>\n",
       "      <th>3</th>\n",
       "      <td>5754</td>\n",
       "      <td>574.94617</td>\n",
       "      <td>-2.420131</td>\n",
       "      <td>-6.592215</td>\n",
       "      <td>Rural_Kilimani</td>\n",
       "      <td>7.109855</td>\n",
       "    </tr>\n",
       "    <tr>\n",
       "      <th>4</th>\n",
       "      <td>14146</td>\n",
       "      <td>886.35300</td>\n",
       "      <td>-3.055434</td>\n",
       "      <td>-7.952609</td>\n",
       "      <td>Rural_Kilimani</td>\n",
       "      <td>55.007656</td>\n",
       "    </tr>\n",
       "    <tr>\n",
       "      <th>...</th>\n",
       "      <td>...</td>\n",
       "      <td>...</td>\n",
       "      <td>...</td>\n",
       "      <td>...</td>\n",
       "      <td>...</td>\n",
       "      <td>...</td>\n",
       "    </tr>\n",
       "    <tr>\n",
       "      <th>5649</th>\n",
       "      <td>11472</td>\n",
       "      <td>681.36145</td>\n",
       "      <td>-7.358371</td>\n",
       "      <td>-6.254369</td>\n",
       "      <td>Rural_Akatsi</td>\n",
       "      <td>16.213196</td>\n",
       "    </tr>\n",
       "    <tr>\n",
       "      <th>5650</th>\n",
       "      <td>19660</td>\n",
       "      <td>667.02120</td>\n",
       "      <td>-3.154559</td>\n",
       "      <td>-4.475046</td>\n",
       "      <td>Rural_Kilimani</td>\n",
       "      <td>2.397553</td>\n",
       "    </tr>\n",
       "    <tr>\n",
       "      <th>5651</th>\n",
       "      <td>41296</td>\n",
       "      <td>670.77900</td>\n",
       "      <td>-14.472861</td>\n",
       "      <td>-6.110221</td>\n",
       "      <td>Rural_Hawassa</td>\n",
       "      <td>7.636470</td>\n",
       "    </tr>\n",
       "    <tr>\n",
       "      <th>5652</th>\n",
       "      <td>33090</td>\n",
       "      <td>429.48840</td>\n",
       "      <td>-14.653089</td>\n",
       "      <td>-6.984116</td>\n",
       "      <td>Rural_Hawassa</td>\n",
       "      <td>13.944720</td>\n",
       "    </tr>\n",
       "    <tr>\n",
       "      <th>5653</th>\n",
       "      <td>8375</td>\n",
       "      <td>763.09030</td>\n",
       "      <td>-4.317028</td>\n",
       "      <td>-6.344461</td>\n",
       "      <td>Rural_Kilimani</td>\n",
       "      <td>35.189430</td>\n",
       "    </tr>\n",
       "  </tbody>\n",
       "</table>\n",
       "<p>5654 rows × 6 columns</p>\n",
       "</div>"
      ],
      "text/plain": [
       "      Field_ID  Elevation   Latitude  Longitude        Location      Slope\n",
       "0        40734  786.05580  -7.389911  -7.556202    Rural_Akatsi  14.795113\n",
       "1        30629  674.33410  -7.736849  -1.051539    Rural_Sokoto  11.374611\n",
       "2        39924  826.53390  -9.926616   0.115156    Rural_Sokoto  11.339692\n",
       "3         5754  574.94617  -2.420131  -6.592215  Rural_Kilimani   7.109855\n",
       "4        14146  886.35300  -3.055434  -7.952609  Rural_Kilimani  55.007656\n",
       "...        ...        ...        ...        ...             ...        ...\n",
       "5649     11472  681.36145  -7.358371  -6.254369    Rural_Akatsi  16.213196\n",
       "5650     19660  667.02120  -3.154559  -4.475046  Rural_Kilimani   2.397553\n",
       "5651     41296  670.77900 -14.472861  -6.110221   Rural_Hawassa   7.636470\n",
       "5652     33090  429.48840 -14.653089  -6.984116   Rural_Hawassa  13.944720\n",
       "5653      8375  763.09030  -4.317028  -6.344461  Rural_Kilimani  35.189430\n",
       "\n",
       "[5654 rows x 6 columns]"
      ]
     },
     "execution_count": 8,
     "metadata": {},
     "output_type": "execute_result"
    }
   ],
   "source": [
    "# df.to_csv(\"Maji_Ndogo_farm_survey_small.csv\")\n",
    "cursor.execute(\"SELECT * From geographic_features\")\n",
    "df1 = cursor.fetchall()\n",
    "df3 = pd.DataFrame(df1)\n",
    "cursor.execute(\"PRAGMA table_info(geographic_features)\")\n",
    "info = cursor.fetchall()\n",
    "# info\n",
    "info2 = [i[1] for i in info ]\n",
    "info2\n",
    "df3.columns = info2"
   ]
  },
  {
   "cell_type": "code",
   "execution_count": 9,
   "metadata": {},
   "outputs": [],
   "source": [
    "df3.to_csv(\"geographic_features\")"
   ]
  },
  {
   "cell_type": "code",
   "execution_count": 10,
   "metadata": {},
   "outputs": [
    {
     "data": {
      "text/html": [
       "<div>\n",
       "<style scoped>\n",
       "    .dataframe tbody tr th:only-of-type {\n",
       "        vertical-align: middle;\n",
       "    }\n",
       "\n",
       "    .dataframe tbody tr th {\n",
       "        vertical-align: top;\n",
       "    }\n",
       "\n",
       "    .dataframe thead th {\n",
       "        text-align: right;\n",
       "    }\n",
       "</style>\n",
       "<table border=\"1\" class=\"dataframe\">\n",
       "  <thead>\n",
       "    <tr style=\"text-align: right;\">\n",
       "      <th></th>\n",
       "      <th>Unnamed: 0</th>\n",
       "      <th>Field_ID</th>\n",
       "      <th>Elevation</th>\n",
       "      <th>Latitude</th>\n",
       "      <th>Longitude</th>\n",
       "      <th>Location</th>\n",
       "      <th>Slope</th>\n",
       "    </tr>\n",
       "  </thead>\n",
       "  <tbody>\n",
       "    <tr>\n",
       "      <th>0</th>\n",
       "      <td>0</td>\n",
       "      <td>40734</td>\n",
       "      <td>786.05580</td>\n",
       "      <td>-7.389911</td>\n",
       "      <td>-7.556202</td>\n",
       "      <td>Rural_Akatsi</td>\n",
       "      <td>14.795113</td>\n",
       "    </tr>\n",
       "    <tr>\n",
       "      <th>1</th>\n",
       "      <td>1</td>\n",
       "      <td>30629</td>\n",
       "      <td>674.33410</td>\n",
       "      <td>-7.736849</td>\n",
       "      <td>-1.051539</td>\n",
       "      <td>Rural_Sokoto</td>\n",
       "      <td>11.374611</td>\n",
       "    </tr>\n",
       "    <tr>\n",
       "      <th>2</th>\n",
       "      <td>2</td>\n",
       "      <td>39924</td>\n",
       "      <td>826.53390</td>\n",
       "      <td>-9.926616</td>\n",
       "      <td>0.115156</td>\n",
       "      <td>Rural_Sokoto</td>\n",
       "      <td>11.339692</td>\n",
       "    </tr>\n",
       "    <tr>\n",
       "      <th>3</th>\n",
       "      <td>3</td>\n",
       "      <td>5754</td>\n",
       "      <td>574.94617</td>\n",
       "      <td>-2.420131</td>\n",
       "      <td>-6.592215</td>\n",
       "      <td>Rural_Kilimani</td>\n",
       "      <td>7.109855</td>\n",
       "    </tr>\n",
       "    <tr>\n",
       "      <th>4</th>\n",
       "      <td>4</td>\n",
       "      <td>14146</td>\n",
       "      <td>886.35300</td>\n",
       "      <td>-3.055434</td>\n",
       "      <td>-7.952609</td>\n",
       "      <td>Rural_Kilimani</td>\n",
       "      <td>55.007656</td>\n",
       "    </tr>\n",
       "    <tr>\n",
       "      <th>...</th>\n",
       "      <td>...</td>\n",
       "      <td>...</td>\n",
       "      <td>...</td>\n",
       "      <td>...</td>\n",
       "      <td>...</td>\n",
       "      <td>...</td>\n",
       "      <td>...</td>\n",
       "    </tr>\n",
       "    <tr>\n",
       "      <th>5649</th>\n",
       "      <td>5649</td>\n",
       "      <td>11472</td>\n",
       "      <td>681.36145</td>\n",
       "      <td>-7.358371</td>\n",
       "      <td>-6.254369</td>\n",
       "      <td>Rural_Akatsi</td>\n",
       "      <td>16.213196</td>\n",
       "    </tr>\n",
       "    <tr>\n",
       "      <th>5650</th>\n",
       "      <td>5650</td>\n",
       "      <td>19660</td>\n",
       "      <td>667.02120</td>\n",
       "      <td>-3.154559</td>\n",
       "      <td>-4.475046</td>\n",
       "      <td>Rural_Kilimani</td>\n",
       "      <td>2.397553</td>\n",
       "    </tr>\n",
       "    <tr>\n",
       "      <th>5651</th>\n",
       "      <td>5651</td>\n",
       "      <td>41296</td>\n",
       "      <td>670.77900</td>\n",
       "      <td>-14.472861</td>\n",
       "      <td>-6.110221</td>\n",
       "      <td>Rural_Hawassa</td>\n",
       "      <td>7.636470</td>\n",
       "    </tr>\n",
       "    <tr>\n",
       "      <th>5652</th>\n",
       "      <td>5652</td>\n",
       "      <td>33090</td>\n",
       "      <td>429.48840</td>\n",
       "      <td>-14.653089</td>\n",
       "      <td>-6.984116</td>\n",
       "      <td>Rural_Hawassa</td>\n",
       "      <td>13.944720</td>\n",
       "    </tr>\n",
       "    <tr>\n",
       "      <th>5653</th>\n",
       "      <td>5653</td>\n",
       "      <td>8375</td>\n",
       "      <td>763.09030</td>\n",
       "      <td>-4.317028</td>\n",
       "      <td>-6.344461</td>\n",
       "      <td>Rural_Kilimani</td>\n",
       "      <td>35.189430</td>\n",
       "    </tr>\n",
       "  </tbody>\n",
       "</table>\n",
       "<p>5654 rows × 7 columns</p>\n",
       "</div>"
      ],
      "text/plain": [
       "      Unnamed: 0  Field_ID  Elevation   Latitude  Longitude        Location  \\\n",
       "0              0     40734  786.05580  -7.389911  -7.556202    Rural_Akatsi   \n",
       "1              1     30629  674.33410  -7.736849  -1.051539    Rural_Sokoto   \n",
       "2              2     39924  826.53390  -9.926616   0.115156    Rural_Sokoto   \n",
       "3              3      5754  574.94617  -2.420131  -6.592215  Rural_Kilimani   \n",
       "4              4     14146  886.35300  -3.055434  -7.952609  Rural_Kilimani   \n",
       "...          ...       ...        ...        ...        ...             ...   \n",
       "5649        5649     11472  681.36145  -7.358371  -6.254369    Rural_Akatsi   \n",
       "5650        5650     19660  667.02120  -3.154559  -4.475046  Rural_Kilimani   \n",
       "5651        5651     41296  670.77900 -14.472861  -6.110221   Rural_Hawassa   \n",
       "5652        5652     33090  429.48840 -14.653089  -6.984116   Rural_Hawassa   \n",
       "5653        5653      8375  763.09030  -4.317028  -6.344461  Rural_Kilimani   \n",
       "\n",
       "          Slope  \n",
       "0     14.795113  \n",
       "1     11.374611  \n",
       "2     11.339692  \n",
       "3      7.109855  \n",
       "4     55.007656  \n",
       "...         ...  \n",
       "5649  16.213196  \n",
       "5650   2.397553  \n",
       "5651   7.636470  \n",
       "5652  13.944720  \n",
       "5653  35.189430  \n",
       "\n",
       "[5654 rows x 7 columns]"
      ]
     },
     "execution_count": 10,
     "metadata": {},
     "output_type": "execute_result"
    }
   ],
   "source": [
    "df0 = pd.read_csv(\"geographic_features\")\n",
    "df0"
   ]
  },
  {
   "cell_type": "markdown",
   "metadata": {},
   "source": [
    "### My_final_outPut"
   ]
  },
  {
   "cell_type": "code",
   "execution_count": 14,
   "metadata": {},
   "outputs": [
    {
     "data": {
      "text/plain": [
       "[('geographic_features',),\n",
       " ('weather_features',),\n",
       " ('soil_and_crop_features',),\n",
       " ('farm_management_features',)]"
      ]
     },
     "execution_count": 14,
     "metadata": {},
     "output_type": "execute_result"
    }
   ],
   "source": [
    "connection = sqlite3.connect(\"Maji_Ndogo_farm_survey_small.db\")\n",
    "cursor = connection.cursor()\n",
    "query1 = \"SELECT name FROM sqlite_master WHERE type = 'table'  \"\n",
    "cursor.execute(query1)\n",
    "table_names = cursor.fetchall()\n",
    "table_names"
   ]
  },
  {
   "cell_type": "code",
   "execution_count": 12,
   "metadata": {},
   "outputs": [
    {
     "data": {
      "text/plain": [
       "['geographic_features',\n",
       " 'weather_features',\n",
       " 'soil_and_crop_features',\n",
       " 'farm_management_features']"
      ]
     },
     "execution_count": 12,
     "metadata": {},
     "output_type": "execute_result"
    }
   ],
   "source": [
    "table_names2 = [i[0] for i in table_names] #-> ['geographic_features','weather_features','soil_and_crop_features','farm_management_features']\n",
    "table_names2"
   ]
  },
  {
   "cell_type": "code",
   "execution_count": 16,
   "metadata": {},
   "outputs": [
    {
     "data": {
      "text/plain": [
       "[(0, 'Field_ID', 'BIGINT', 0, None, 0),\n",
       " (1, 'Elevation', 'FLOAT', 0, None, 0),\n",
       " (2, 'Latitude', 'FLOAT', 0, None, 0),\n",
       " (3, 'Longitude', 'FLOAT', 0, None, 0),\n",
       " (4, 'Location', 'TEXT', 0, None, 0),\n",
       " (5, 'Slope', 'FLOAT', 0, None, 0)]"
      ]
     },
     "execution_count": 16,
     "metadata": {},
     "output_type": "execute_result"
    }
   ],
   "source": [
    "\n",
    "a= table_names2[0]\n",
    "query2 = \"PRAGMA table_info('{a}')\"\n",
    "cursor.execute(f\"PRAGMA table_info('{a}')\")\n",
    "attrib = cursor.fetchall()\n",
    "attrib\n",
    "# table_names2"
   ]
  },
  {
   "cell_type": "code",
   "execution_count": 41,
   "metadata": {},
   "outputs": [
    {
     "name": "stdout",
     "output_type": "stream",
     "text": [
      "   Field_ID  Elevation  Latitude  Longitude      Location      Slope\n",
      "0     40734   786.0558 -7.389911  -7.556202  Rural_Akatsi  14.795113\n",
      "1     30629   674.3341 -7.736849  -1.051539  Rural_Sokoto  11.374611\n",
      "2     39924   826.5339 -9.926616   0.115156  Rural_Sokoto  11.339692\n",
      "   Field_ID  Rainfall  Min_temperature_C  Max_temperature_C  Ave_temps\n",
      "0     40734    1125.2               -3.1               33.1      15.00\n",
      "1     30629    1450.7               -3.9               30.6      13.35\n",
      "2     39924    2208.9               -1.8               28.4      13.30\n",
      "   Field_ID  Soil_fertility Soil_type        pH\n",
      "0     40734            0.62     Sandy  6.169393\n",
      "1     30629            0.64  Volcanic  5.676648\n",
      "2     39924            0.69  Volcanic  5.331993\n",
      "   Field_ID  Pollution_level  Plot_size  Crop_type Annual_yield  \\\n",
      "0     40734         0.085267        1.3   0.751354      cassava   \n",
      "1     30629         0.399684        2.2   1.069865      cassava   \n",
      "2     39924         0.358029        3.4   2.208801          tea   \n",
      "\n",
      "   Standard_yield  \n",
      "0        0.577964  \n",
      "1        0.486302  \n",
      "2        0.649647  \n"
     ]
    }
   ],
   "source": [
    "for i in table_names2:\n",
    "    cursor.execute(f\"PRAGMA table_info('{i}'  )\")\n",
    "    col_names =[i[1] for i in cursor.fetchall()] #--> the out put of this is a list\n",
    "    # print(col_names)\n",
    "    cursor.execute(f\"SELECT * FROM {i}\")\n",
    "    data = cursor.fetchall()\n",
    "    DF = pd.DataFrame(data)\n",
    "    DF.columns = col_names\n",
    "    print(DF.head(3))\n",
    "    # DF.to_csv(i) #// now all are saved in separate .csv files with respect to their table names\n",
    "\n",
    "\n"
   ]
  }
 ],
 "metadata": {
  "kernelspec": {
   "display_name": "Red",
   "language": "python",
   "name": "python3"
  },
  "language_info": {
   "codemirror_mode": {
    "name": "ipython",
    "version": 3
   },
   "file_extension": ".py",
   "mimetype": "text/x-python",
   "name": "python",
   "nbconvert_exporter": "python",
   "pygments_lexer": "ipython3",
   "version": "3.11.7"
  }
 },
 "nbformat": 4,
 "nbformat_minor": 2
}
