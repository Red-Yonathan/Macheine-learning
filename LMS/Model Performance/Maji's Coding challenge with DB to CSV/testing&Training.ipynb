{
 "cells": [
  {
   "cell_type": "markdown",
   "metadata": {},
   "source": [
    "Tesing .apply in pandas"
   ]
  },
  {
   "cell_type": "code",
   "execution_count": null,
   "metadata": {},
   "outputs": [],
   "source": [
    "#here is how to use .apply \n",
    "import pandas as pd\n",
    "\n",
    "# Create a DataFrame\n",
    "data = {'col1': [1, 2, 3], 'col2': ['a', 'b', 'a']}\n",
    "df = pd.DataFrame(data)\n",
    "\n",
    "# Define functions for squaring and converting string to uppercase\n",
    "def square(x):\n",
    "  return x * x\n",
    "\n",
    "def to_uppercase(x):\n",
    "  if isinstance(x, str):  # Check if string\n",
    "    return x.upper()\n",
    "  else:\n",
    "    return x  # Return original value for non-strings\n",
    "\n",
    "# Apply squaring to each value (column-wise by default)\n",
    "df_squared = df.apply(square)\n",
    "print(df_squared)  # DataFrame with squared values\n",
    "\n",
    "# Apply to rows (calculate sum) and columns (calculate mean)\n",
    "df_sum_rows = df.apply(sum, axis=1)\n",
    "df_mean_cols = df.apply(pd.Series.mean)\n",
    "print(df_sum_rows)  # Series with sum of each row\n",
    "print(df_mean_cols)  # Series with mean of each column\n",
    "\n",
    "# Apply lambda function for string uppercasing (column-wise)\n",
    "df_uppercase = df.apply(lambda x: to_uppercase(x))\n",
    "print(df_uppercase)  # DataFrame with uppercase strings (if applicable)\n"
   ]
  },
  {
   "cell_type": "markdown",
   "metadata": {},
   "source": [
    "tring how to use .rename in pandas"
   ]
  },
  {
   "cell_type": "code",
   "execution_count": 11,
   "metadata": {},
   "outputs": [
    {
     "name": "stdout",
     "output_type": "stream",
     "text": [
      "None\n",
      "**************************************************\n",
      "   new_name1  new_name2\n",
      "0          1          4\n",
      "1          2          5\n",
      "2          3          6\n"
     ]
    }
   ],
   "source": [
    "import pandas as pd\n",
    "\n",
    "data = {'old_name1': [1, 2, 3], 'old_name2': [4, 5, 6]}\n",
    "df = pd.DataFrame(data)\n",
    "\n",
    "# Rename columns using a dictionary\n",
    "new_names = {'old_name1': 'new_name1', 'old_name2': 'new_name2'}\n",
    "df_renamed = df.rename(columns=new_names,inplace=True)\n",
    "\n",
    "print(df_renamed) #-> this retutns None b/c when inplace = true, df.rename doesn't return new dataframe but rather updates it \n",
    "print(\"*\"*50)\n",
    "print(df)\n",
    "\n",
    "\n",
    "\n"
   ]
  },
  {
   "cell_type": "code",
   "execution_count": null,
   "metadata": {},
   "outputs": [],
   "source": [
    "#another way of renaing \n",
    "data = {'old_name1': [1, 2, 3], 'old_name2': [4, 5, 6]}\n",
    "df = pd.DataFrame(data)\n",
    "\n",
    "# Rename columns using list assignment\n",
    "df.columns = ['new_name1', 'new_name2']\n"
   ]
  },
  {
   "cell_type": "markdown",
   "metadata": {},
   "source": [
    "Correlation coefficient"
   ]
  },
  {
   "cell_type": "code",
   "execution_count": 12,
   "metadata": {},
   "outputs": [
    {
     "name": "stdout",
     "output_type": "stream",
     "text": [
      "          x         y\n",
      "x  1.000000  0.774597\n",
      "y  0.774597  1.000000\n",
      "<bound method DataFrame.corrwith of    x  y\n",
      "0  1  2\n",
      "1  2  4\n",
      "2  3  5\n",
      "3  4  4\n",
      "4  5  5>\n"
     ]
    }
   ],
   "source": [
    "import pandas as pd\n",
    "\n",
    "# Sample data as a DataFrame\n",
    "data = {'x': [1, 2, 3, 4, 5], 'y': [2, 4, 5, 4, 5]}\n",
    "df = pd.DataFrame(data)\n",
    "\n",
    "# Calculate the correlation matrix\n",
    "correlation_matrix = df.corr()\n",
    "\n",
    "# Print the correlation matrix\n",
    "print(correlation_matrix)\n",
    "\n"
   ]
  },
  {
   "cell_type": "code",
   "execution_count": 22,
   "metadata": {},
   "outputs": [
    {
     "name": "stdout",
     "output_type": "stream",
     "text": [
      "0.7745966692414834\n",
      "[[1.         0.77459667]\n",
      " [0.77459667 1.        ]]\n"
     ]
    }
   ],
   "source": [
    "# another way of findinf correlation matrix \n",
    "import numpy as np\n",
    "\n",
    "# Sample data\n",
    "x = np.array([1, 2, 3, 4, 5])\n",
    "y = np.array([2, 4, 5, 4, 5])\n",
    "\n",
    "# Calculate the Pearson correlation coefficient\n",
    "correlation = np.corrcoef(x, y)[0, 1]\n",
    "\n",
    "# Print the correlation coefficient\n",
    "print(correlation)\n",
    "print(np.corrcoef(x,y))\n"
   ]
  }
 ],
 "metadata": {
  "kernelspec": {
   "display_name": "Red",
   "language": "python",
   "name": "python3"
  },
  "language_info": {
   "codemirror_mode": {
    "name": "ipython",
    "version": 3
   },
   "file_extension": ".py",
   "mimetype": "text/x-python",
   "name": "python",
   "nbconvert_exporter": "python",
   "pygments_lexer": "ipython3",
   "version": "3.11.7"
  }
 },
 "nbformat": 4,
 "nbformat_minor": 2
}
