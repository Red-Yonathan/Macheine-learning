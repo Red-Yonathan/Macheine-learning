{
 "cells": [
  {
   "cell_type": "code",
   "execution_count": 1,
   "metadata": {},
   "outputs": [
    {
     "name": "stderr",
     "output_type": "stream",
     "text": [
      "C:\\Users\\redyo\\AppData\\Local\\Temp\\ipykernel_11132\\2937650959.py:1: DeprecationWarning: \n",
      "Pyarrow will become a required dependency of pandas in the next major release of pandas (pandas 3.0),\n",
      "(to allow more performant data types, such as the Arrow string type, and better interoperability with other libraries)\n",
      "but was not found to be installed on your system.\n",
      "If this would cause problems for you,\n",
      "please provide us feedback at https://github.com/pandas-dev/pandas/issues/54466\n",
      "        \n",
      "  import pandas as pd\n"
     ]
    }
   ],
   "source": [
    "import pandas as pd\n",
    "import numpy as np\n"
   ]
  },
  {
   "cell_type": "code",
   "execution_count": 6,
   "metadata": {},
   "outputs": [
    {
     "data": {
      "text/plain": [
       "['Table format', 'Record format', 'CodeDescriptions']"
      ]
     },
     "execution_count": 6,
     "metadata": {},
     "output_type": "execute_result"
    }
   ],
   "source": [
    "# df = pd.read_excel('SH_H2O_SAFE.xlsx',sheet_name=None)\n",
    "xls = pd.ExcelFile('SH_H2O_SAFE.xlsx')\n",
    "xls.sheet_names"
   ]
  },
  {
   "cell_type": "code",
   "execution_count": 8,
   "metadata": {},
   "outputs": [
    {
     "data": {
      "text/html": [
       "<div>\n",
       "<style scoped>\n",
       "    .dataframe tbody tr th:only-of-type {\n",
       "        vertical-align: middle;\n",
       "    }\n",
       "\n",
       "    .dataframe tbody tr th {\n",
       "        vertical-align: top;\n",
       "    }\n",
       "\n",
       "    .dataframe thead th {\n",
       "        text-align: right;\n",
       "    }\n",
       "</style>\n",
       "<table border=\"1\" class=\"dataframe\">\n",
       "  <thead>\n",
       "    <tr style=\"text-align: right;\">\n",
       "      <th></th>\n",
       "      <th>Goal</th>\n",
       "      <th>Target</th>\n",
       "      <th>Indicator</th>\n",
       "      <th>SeriesCode</th>\n",
       "      <th>SeriesDescription</th>\n",
       "      <th>GeoAreaCode</th>\n",
       "      <th>GeoAreaName</th>\n",
       "      <th>TimePeriod</th>\n",
       "      <th>Value</th>\n",
       "      <th>Time_Detail</th>\n",
       "      <th>...</th>\n",
       "      <th>UpperBound</th>\n",
       "      <th>LowerBound</th>\n",
       "      <th>BasePeriod</th>\n",
       "      <th>Source</th>\n",
       "      <th>GeoInfoUrl</th>\n",
       "      <th>FootNote</th>\n",
       "      <th>Location</th>\n",
       "      <th>Nature</th>\n",
       "      <th>Reporting Type</th>\n",
       "      <th>Units</th>\n",
       "    </tr>\n",
       "  </thead>\n",
       "  <tbody>\n",
       "    <tr>\n",
       "      <th>0</th>\n",
       "      <td>6</td>\n",
       "      <td>6.1</td>\n",
       "      <td>6.1.1</td>\n",
       "      <td>SH_H2O_SAFE</td>\n",
       "      <td>Proportion of population using safely managed ...</td>\n",
       "      <td>4</td>\n",
       "      <td>Afghanistan</td>\n",
       "      <td>2000</td>\n",
       "      <td>11.09333</td>\n",
       "      <td>2000</td>\n",
       "      <td>...</td>\n",
       "      <td>NaN</td>\n",
       "      <td>NaN</td>\n",
       "      <td>NaN</td>\n",
       "      <td>WHO/UNICEF Joint Monitoring Programme for Wate...</td>\n",
       "      <td>NaN</td>\n",
       "      <td>NaN</td>\n",
       "      <td>ALLAREA</td>\n",
       "      <td>E</td>\n",
       "      <td>G</td>\n",
       "      <td>PERCENT</td>\n",
       "    </tr>\n",
       "    <tr>\n",
       "      <th>1</th>\n",
       "      <td>6</td>\n",
       "      <td>6.1</td>\n",
       "      <td>6.1.1</td>\n",
       "      <td>SH_H2O_SAFE</td>\n",
       "      <td>Proportion of population using safely managed ...</td>\n",
       "      <td>4</td>\n",
       "      <td>Afghanistan</td>\n",
       "      <td>2001</td>\n",
       "      <td>11.10522</td>\n",
       "      <td>2001</td>\n",
       "      <td>...</td>\n",
       "      <td>NaN</td>\n",
       "      <td>NaN</td>\n",
       "      <td>NaN</td>\n",
       "      <td>WHO/UNICEF Joint Monitoring Programme for Wate...</td>\n",
       "      <td>NaN</td>\n",
       "      <td>NaN</td>\n",
       "      <td>ALLAREA</td>\n",
       "      <td>E</td>\n",
       "      <td>G</td>\n",
       "      <td>PERCENT</td>\n",
       "    </tr>\n",
       "    <tr>\n",
       "      <th>2</th>\n",
       "      <td>6</td>\n",
       "      <td>6.1</td>\n",
       "      <td>6.1.1</td>\n",
       "      <td>SH_H2O_SAFE</td>\n",
       "      <td>Proportion of population using safely managed ...</td>\n",
       "      <td>4</td>\n",
       "      <td>Afghanistan</td>\n",
       "      <td>2002</td>\n",
       "      <td>12.00773</td>\n",
       "      <td>2002</td>\n",
       "      <td>...</td>\n",
       "      <td>NaN</td>\n",
       "      <td>NaN</td>\n",
       "      <td>NaN</td>\n",
       "      <td>WHO/UNICEF Joint Monitoring Programme for Wate...</td>\n",
       "      <td>NaN</td>\n",
       "      <td>NaN</td>\n",
       "      <td>ALLAREA</td>\n",
       "      <td>E</td>\n",
       "      <td>G</td>\n",
       "      <td>PERCENT</td>\n",
       "    </tr>\n",
       "    <tr>\n",
       "      <th>3</th>\n",
       "      <td>6</td>\n",
       "      <td>6.1</td>\n",
       "      <td>6.1.1</td>\n",
       "      <td>SH_H2O_SAFE</td>\n",
       "      <td>Proportion of population using safely managed ...</td>\n",
       "      <td>4</td>\n",
       "      <td>Afghanistan</td>\n",
       "      <td>2004</td>\n",
       "      <td>13.81868</td>\n",
       "      <td>2004</td>\n",
       "      <td>...</td>\n",
       "      <td>NaN</td>\n",
       "      <td>NaN</td>\n",
       "      <td>NaN</td>\n",
       "      <td>WHO/UNICEF Joint Monitoring Programme for Wate...</td>\n",
       "      <td>NaN</td>\n",
       "      <td>NaN</td>\n",
       "      <td>ALLAREA</td>\n",
       "      <td>E</td>\n",
       "      <td>G</td>\n",
       "      <td>PERCENT</td>\n",
       "    </tr>\n",
       "    <tr>\n",
       "      <th>4</th>\n",
       "      <td>6</td>\n",
       "      <td>6.1</td>\n",
       "      <td>6.1.1</td>\n",
       "      <td>SH_H2O_SAFE</td>\n",
       "      <td>Proportion of population using safely managed ...</td>\n",
       "      <td>4</td>\n",
       "      <td>Afghanistan</td>\n",
       "      <td>2003</td>\n",
       "      <td>12.90992</td>\n",
       "      <td>2003</td>\n",
       "      <td>...</td>\n",
       "      <td>NaN</td>\n",
       "      <td>NaN</td>\n",
       "      <td>NaN</td>\n",
       "      <td>WHO/UNICEF Joint Monitoring Programme for Wate...</td>\n",
       "      <td>NaN</td>\n",
       "      <td>NaN</td>\n",
       "      <td>ALLAREA</td>\n",
       "      <td>E</td>\n",
       "      <td>G</td>\n",
       "      <td>PERCENT</td>\n",
       "    </tr>\n",
       "  </tbody>\n",
       "</table>\n",
       "<p>5 rows × 21 columns</p>\n",
       "</div>"
      ],
      "text/plain": [
       "   Goal  Target Indicator   SeriesCode  \\\n",
       "0     6     6.1     6.1.1  SH_H2O_SAFE   \n",
       "1     6     6.1     6.1.1  SH_H2O_SAFE   \n",
       "2     6     6.1     6.1.1  SH_H2O_SAFE   \n",
       "3     6     6.1     6.1.1  SH_H2O_SAFE   \n",
       "4     6     6.1     6.1.1  SH_H2O_SAFE   \n",
       "\n",
       "                                   SeriesDescription  GeoAreaCode  \\\n",
       "0  Proportion of population using safely managed ...            4   \n",
       "1  Proportion of population using safely managed ...            4   \n",
       "2  Proportion of population using safely managed ...            4   \n",
       "3  Proportion of population using safely managed ...            4   \n",
       "4  Proportion of population using safely managed ...            4   \n",
       "\n",
       "   GeoAreaName  TimePeriod     Value  Time_Detail  ...  UpperBound  \\\n",
       "0  Afghanistan        2000  11.09333         2000  ...         NaN   \n",
       "1  Afghanistan        2001  11.10522         2001  ...         NaN   \n",
       "2  Afghanistan        2002  12.00773         2002  ...         NaN   \n",
       "3  Afghanistan        2004  13.81868         2004  ...         NaN   \n",
       "4  Afghanistan        2003  12.90992         2003  ...         NaN   \n",
       "\n",
       "   LowerBound  BasePeriod                                             Source  \\\n",
       "0         NaN         NaN  WHO/UNICEF Joint Monitoring Programme for Wate...   \n",
       "1         NaN         NaN  WHO/UNICEF Joint Monitoring Programme for Wate...   \n",
       "2         NaN         NaN  WHO/UNICEF Joint Monitoring Programme for Wate...   \n",
       "3         NaN         NaN  WHO/UNICEF Joint Monitoring Programme for Wate...   \n",
       "4         NaN         NaN  WHO/UNICEF Joint Monitoring Programme for Wate...   \n",
       "\n",
       "  GeoInfoUrl  FootNote  Location Nature Reporting Type    Units  \n",
       "0        NaN       NaN   ALLAREA      E              G  PERCENT  \n",
       "1        NaN       NaN   ALLAREA      E              G  PERCENT  \n",
       "2        NaN       NaN   ALLAREA      E              G  PERCENT  \n",
       "3        NaN       NaN   ALLAREA      E              G  PERCENT  \n",
       "4        NaN       NaN   ALLAREA      E              G  PERCENT  \n",
       "\n",
       "[5 rows x 21 columns]"
      ]
     },
     "execution_count": 8,
     "metadata": {},
     "output_type": "execute_result"
    }
   ],
   "source": [
    "df_tableFormat = pd.read_excel('SH_H2O_SAFE.xlsx',sheet_name='Table format')\n",
    "df_recordFormat = pd.read_excel('SH_H2O_SAFE.xlsx',sheet_name='Record format')\n",
    "df_recordFormat.head() "
   ]
  },
  {
   "cell_type": "markdown",
   "metadata": {},
   "source": [
    "E -> stands for Estimated Data\n"
   ]
  },
  {
   "cell_type": "code",
   "execution_count": 9,
   "metadata": {},
   "outputs": [
    {
     "name": "stdout",
     "output_type": "stream",
     "text": [
      "number of unique names: 198\n"
     ]
    }
   ],
   "source": [
    "print(\"number of unique names:\",len(df_tableFormat['GeoAreaName'].unique()))"
   ]
  },
  {
   "cell_type": "markdown",
   "metadata": {},
   "source": [
    "Q3"
   ]
  },
  {
   "cell_type": "code",
   "execution_count": 10,
   "metadata": {},
   "outputs": [
    {
     "name": "stdout",
     "output_type": "stream",
     "text": [
      "ALLAREA 180\n",
      "RURAL 102\n",
      "URBAN 131\n"
     ]
    }
   ],
   "source": [
    "locations = ['ALLAREA', 'RURAL', 'URBAN']\n",
    "for i in range(len(locations)):\n",
    "    print(locations[i],len(df_tableFormat[df_tableFormat['Location'] == locations[i]]))"
   ]
  },
  {
   "cell_type": "markdown",
   "metadata": {},
   "source": [
    "Q4"
   ]
  },
  {
   "cell_type": "code",
   "execution_count": 18,
   "metadata": {},
   "outputs": [
    {
     "data": {
      "text/plain": [
       "0    Proportion of population using safely managed ...\n",
       "1    Proportion of population using safely managed ...\n",
       "2    Proportion of population using safely managed ...\n",
       "Name: SeriesDescription, dtype: object"
      ]
     },
     "execution_count": 18,
     "metadata": {},
     "output_type": "execute_result"
    }
   ],
   "source": [
    "df_afgan = df_tableFormat[df_tableFormat['GeoAreaName']=='Afghanistan']\n"
   ]
  },
  {
   "cell_type": "markdown",
   "metadata": {},
   "source": [
    "#Q5"
   ]
  },
  {
   "cell_type": "code",
   "execution_count": 24,
   "metadata": {},
   "outputs": [
    {
     "data": {
      "text/html": [
       "<div>\n",
       "<style scoped>\n",
       "    .dataframe tbody tr th:only-of-type {\n",
       "        vertical-align: middle;\n",
       "    }\n",
       "\n",
       "    .dataframe tbody tr th {\n",
       "        vertical-align: top;\n",
       "    }\n",
       "\n",
       "    .dataframe thead th {\n",
       "        text-align: right;\n",
       "    }\n",
       "</style>\n",
       "<table border=\"1\" class=\"dataframe\">\n",
       "  <thead>\n",
       "    <tr style=\"text-align: right;\">\n",
       "      <th></th>\n",
       "      <th>Goal</th>\n",
       "      <th>Target</th>\n",
       "      <th>Indicator</th>\n",
       "      <th>SeriesCode</th>\n",
       "      <th>SeriesDescription</th>\n",
       "      <th>GeoAreaCode</th>\n",
       "      <th>GeoAreaName</th>\n",
       "      <th>TimePeriod</th>\n",
       "      <th>Value</th>\n",
       "      <th>Time_Detail</th>\n",
       "      <th>...</th>\n",
       "      <th>.10</th>\n",
       "      <th>.11</th>\n",
       "      <th>.12</th>\n",
       "      <th>.13</th>\n",
       "      <th>.14</th>\n",
       "      <th>.15</th>\n",
       "      <th>.16</th>\n",
       "      <th>.17</th>\n",
       "      <th>.18</th>\n",
       "      <th>.19</th>\n",
       "    </tr>\n",
       "  </thead>\n",
       "  <tbody>\n",
       "    <tr>\n",
       "      <th>0</th>\n",
       "      <td>10</td>\n",
       "      <td>10.7</td>\n",
       "      <td>10.7.3</td>\n",
       "      <td>SM_DTH_MIGR</td>\n",
       "      <td>Total deaths and disappearances recorded durin...</td>\n",
       "      <td>1</td>\n",
       "      <td>World</td>\n",
       "      <td>2014</td>\n",
       "      <td>5548</td>\n",
       "      <td>2014</td>\n",
       "      <td>...</td>\n",
       "      <td>NaN</td>\n",
       "      <td>NaN</td>\n",
       "      <td>NaN</td>\n",
       "      <td>NaN</td>\n",
       "      <td>NaN</td>\n",
       "      <td>NaN</td>\n",
       "      <td>NaN</td>\n",
       "      <td>NaN</td>\n",
       "      <td>NaN</td>\n",
       "      <td>NaN</td>\n",
       "    </tr>\n",
       "    <tr>\n",
       "      <th>1</th>\n",
       "      <td>10</td>\n",
       "      <td>10.7</td>\n",
       "      <td>10.7.3</td>\n",
       "      <td>SM_DTH_MIGR</td>\n",
       "      <td>Total deaths and disappearances recorded durin...</td>\n",
       "      <td>1</td>\n",
       "      <td>World</td>\n",
       "      <td>2015</td>\n",
       "      <td>6750</td>\n",
       "      <td>2015</td>\n",
       "      <td>...</td>\n",
       "      <td>NaN</td>\n",
       "      <td>NaN</td>\n",
       "      <td>NaN</td>\n",
       "      <td>NaN</td>\n",
       "      <td>NaN</td>\n",
       "      <td>NaN</td>\n",
       "      <td>NaN</td>\n",
       "      <td>NaN</td>\n",
       "      <td>NaN</td>\n",
       "      <td>NaN</td>\n",
       "    </tr>\n",
       "    <tr>\n",
       "      <th>2</th>\n",
       "      <td>10</td>\n",
       "      <td>10.7</td>\n",
       "      <td>10.7.3</td>\n",
       "      <td>SM_DTH_MIGR</td>\n",
       "      <td>Total deaths and disappearances recorded durin...</td>\n",
       "      <td>1</td>\n",
       "      <td>World</td>\n",
       "      <td>2016</td>\n",
       "      <td>8084</td>\n",
       "      <td>2016</td>\n",
       "      <td>...</td>\n",
       "      <td>NaN</td>\n",
       "      <td>NaN</td>\n",
       "      <td>NaN</td>\n",
       "      <td>NaN</td>\n",
       "      <td>NaN</td>\n",
       "      <td>NaN</td>\n",
       "      <td>NaN</td>\n",
       "      <td>NaN</td>\n",
       "      <td>NaN</td>\n",
       "      <td>NaN</td>\n",
       "    </tr>\n",
       "    <tr>\n",
       "      <th>3</th>\n",
       "      <td>10</td>\n",
       "      <td>10.7</td>\n",
       "      <td>10.7.3</td>\n",
       "      <td>SM_DTH_MIGR</td>\n",
       "      <td>Total deaths and disappearances recorded durin...</td>\n",
       "      <td>1</td>\n",
       "      <td>World</td>\n",
       "      <td>2017</td>\n",
       "      <td>6290</td>\n",
       "      <td>2017</td>\n",
       "      <td>...</td>\n",
       "      <td>NaN</td>\n",
       "      <td>NaN</td>\n",
       "      <td>NaN</td>\n",
       "      <td>NaN</td>\n",
       "      <td>NaN</td>\n",
       "      <td>NaN</td>\n",
       "      <td>NaN</td>\n",
       "      <td>NaN</td>\n",
       "      <td>NaN</td>\n",
       "      <td>NaN</td>\n",
       "    </tr>\n",
       "    <tr>\n",
       "      <th>4</th>\n",
       "      <td>10</td>\n",
       "      <td>10.7</td>\n",
       "      <td>10.7.3</td>\n",
       "      <td>SM_DTH_MIGR</td>\n",
       "      <td>Total deaths and disappearances recorded durin...</td>\n",
       "      <td>1</td>\n",
       "      <td>World</td>\n",
       "      <td>2018</td>\n",
       "      <td>5009</td>\n",
       "      <td>2018</td>\n",
       "      <td>...</td>\n",
       "      <td>NaN</td>\n",
       "      <td>NaN</td>\n",
       "      <td>NaN</td>\n",
       "      <td>NaN</td>\n",
       "      <td>NaN</td>\n",
       "      <td>NaN</td>\n",
       "      <td>NaN</td>\n",
       "      <td>NaN</td>\n",
       "      <td>NaN</td>\n",
       "      <td>NaN</td>\n",
       "    </tr>\n",
       "  </tbody>\n",
       "</table>\n",
       "<p>5 rows × 40 columns</p>\n",
       "</div>"
      ],
      "text/plain": [
       "   Goal  Target Indicator   SeriesCode  \\\n",
       "0    10    10.7    10.7.3  SM_DTH_MIGR   \n",
       "1    10    10.7    10.7.3  SM_DTH_MIGR   \n",
       "2    10    10.7    10.7.3  SM_DTH_MIGR   \n",
       "3    10    10.7    10.7.3  SM_DTH_MIGR   \n",
       "4    10    10.7    10.7.3  SM_DTH_MIGR   \n",
       "\n",
       "                                   SeriesDescription  GeoAreaCode GeoAreaName  \\\n",
       "0  Total deaths and disappearances recorded durin...            1       World   \n",
       "1  Total deaths and disappearances recorded durin...            1       World   \n",
       "2  Total deaths and disappearances recorded durin...            1       World   \n",
       "3  Total deaths and disappearances recorded durin...            1       World   \n",
       "4  Total deaths and disappearances recorded durin...            1       World   \n",
       "\n",
       "   TimePeriod  Value  Time_Detail  ...   .10   .11   .12   .13  .14   .15  \\\n",
       "0        2014   5548         2014  ...   NaN   NaN   NaN   NaN  NaN   NaN   \n",
       "1        2015   6750         2015  ...   NaN   NaN   NaN   NaN  NaN   NaN   \n",
       "2        2016   8084         2016  ...   NaN   NaN   NaN   NaN  NaN   NaN   \n",
       "3        2017   6290         2017  ...   NaN   NaN   NaN   NaN  NaN   NaN   \n",
       "4        2018   5009         2018  ...   NaN   NaN   NaN   NaN  NaN   NaN   \n",
       "\n",
       "    .16  .17  .18  .19  \n",
       "0   NaN  NaN  NaN  NaN  \n",
       "1   NaN  NaN  NaN  NaN  \n",
       "2   NaN  NaN  NaN  NaN  \n",
       "3   NaN  NaN  NaN  NaN  \n",
       "4   NaN  NaN  NaN  NaN  \n",
       "\n",
       "[5 rows x 40 columns]"
      ]
     },
     "execution_count": 24,
     "metadata": {},
     "output_type": "execute_result"
    }
   ],
   "source": [
    "xls= pd.ExcelFile('SDG_10_7_3.xlsx',engine='openpyxl')\n",
    "# xls.sheet_names #-> ['CodeDescriptions', 'Goal10', 'Pivot Table 5']\n",
    "df_goal = pd.read_excel('SDG_10_7_3.xlsx',sheet_name='Goal10')\n",
    "df_goal.head()"
   ]
  },
  {
   "cell_type": "code",
   "execution_count": 37,
   "metadata": {},
   "outputs": [
    {
     "data": {
      "text/plain": [
       "9    World\n",
       "Name: GeoAreaName, dtype: object"
      ]
     },
     "execution_count": 37,
     "metadata": {},
     "output_type": "execute_result"
    }
   ],
   "source": [
    "# df_goal.iloc(df_goal['Value'] == 8177)\n",
    "# df_goal['Value'].idxmax()# prints the index\n",
    "df_goal.loc[df_goal['Value']==df_goal['Value'].max(),'GeoAreaName']"
   ]
  },
  {
   "cell_type": "code",
   "execution_count": 62,
   "metadata": {},
   "outputs": [
    {
     "name": "stdout",
     "output_type": "stream",
     "text": [
      "Algeria has appeared 10 times and is the highest amongst the four\n"
     ]
    }
   ],
   "source": [
    "No_of_appearance = df_goal['GeoAreaName'].value_counts()['Algeria']\n",
    "print(f\"Algeria has appeared {No_of_appearance} times and is the highest amongst the four\")"
   ]
  },
  {
   "cell_type": "markdown",
   "metadata": {},
   "source": [
    "Q6 Which year has the most data points in this dataset?"
   ]
  },
  {
   "cell_type": "code",
   "execution_count": 102,
   "metadata": {},
   "outputs": [
    {
     "data": {
      "text/plain": [
       "2018"
      ]
     },
     "execution_count": 102,
     "metadata": {},
     "output_type": "execute_result"
    }
   ],
   "source": [
    "df_goal['TimePeriod'].value_counts().idxmax()"
   ]
  },
  {
   "cell_type": "markdown",
   "metadata": {},
   "source": [
    "Q7 The GeoAreaName column contains different levels of aggregation, ranging from country, to subregions, to the World. \n",
    "\n",
    "Determine the average number of ‘Total deaths and disappearances recorded during migration’ per GeoAreaName entry, over the period 2018-2023. Express this GeoAreaName average as a proportion of the World average over that time period. What is the proportion that forms the largest share?"
   ]
  },
  {
   "cell_type": "code",
   "execution_count": 103,
   "metadata": {},
   "outputs": [],
   "source": [
    "# df_1 = df_goal[['GeoAreaName','TimePeriod']]\n",
    "df_cutted = df_goal[(2018<=df_goal['TimePeriod']) & (df_goal['TimePeriod']<=2023)]\n"
   ]
  },
  {
   "cell_type": "code",
   "execution_count": 110,
   "metadata": {},
   "outputs": [
    {
     "data": {
      "text/plain": [
       "GeoAreaName\n",
       "World             6\n",
       "Mauritania        6\n",
       "Eastern Europe    6\n",
       "Western Europe    6\n",
       "Colombia          6\n",
       "                 ..\n",
       "Singapore         1\n",
       "Israel            1\n",
       "Iraq              1\n",
       "Oman              1\n",
       "South Africa      1\n",
       "Name: count, Length: 160, dtype: int64"
      ]
     },
     "execution_count": 110,
     "metadata": {},
     "output_type": "execute_result"
    }
   ],
   "source": [
    "geo_indexes = df_cutted['GeoAreaName'].value_counts().index\n",
    "our_df =df_cutted['GeoAreaName'].value_counts()\n",
    "df_cutted['GeoAreaName'].value_counts()\n"
   ]
  },
  {
   "cell_type": "code",
   "execution_count": 105,
   "metadata": {},
   "outputs": [
    {
     "data": {
      "text/plain": [
       "'World'"
      ]
     },
     "execution_count": 105,
     "metadata": {},
     "output_type": "execute_result"
    }
   ],
   "source": [
    "geo_indexes[0]"
   ]
  },
  {
   "cell_type": "code",
   "execution_count": 112,
   "metadata": {},
   "outputs": [
    {
     "data": {
      "text/plain": [
       "<pandas.core.indexing._LocIndexer at 0x1545466d180>"
      ]
     },
     "execution_count": 112,
     "metadata": {},
     "output_type": "execute_result"
    }
   ],
   "source": [
    "our_df.loc"
   ]
  },
  {
   "cell_type": "code",
   "execution_count": null,
   "metadata": {},
   "outputs": [],
   "source": []
  },
  {
   "cell_type": "code",
   "execution_count": 140,
   "metadata": {},
   "outputs": [
    {
     "data": {
      "text/html": [
       "<div>\n",
       "<style scoped>\n",
       "    .dataframe tbody tr th:only-of-type {\n",
       "        vertical-align: middle;\n",
       "    }\n",
       "\n",
       "    .dataframe tbody tr th {\n",
       "        vertical-align: top;\n",
       "    }\n",
       "\n",
       "    .dataframe thead th {\n",
       "        text-align: right;\n",
       "    }\n",
       "</style>\n",
       "<table border=\"1\" class=\"dataframe\">\n",
       "  <thead>\n",
       "    <tr style=\"text-align: right;\">\n",
       "      <th></th>\n",
       "      <th>Goal</th>\n",
       "      <th>Target</th>\n",
       "      <th>Indicator</th>\n",
       "      <th>SeriesCode</th>\n",
       "      <th>SeriesDescription</th>\n",
       "      <th>GeoAreaCode</th>\n",
       "      <th>GeoAreaName</th>\n",
       "      <th>TimePeriod</th>\n",
       "      <th>Value</th>\n",
       "      <th>Time_Detail</th>\n",
       "      <th>...</th>\n",
       "      <th>.10</th>\n",
       "      <th>.11</th>\n",
       "      <th>.12</th>\n",
       "      <th>.13</th>\n",
       "      <th>.14</th>\n",
       "      <th>.15</th>\n",
       "      <th>.16</th>\n",
       "      <th>.17</th>\n",
       "      <th>.18</th>\n",
       "      <th>.19</th>\n",
       "    </tr>\n",
       "  </thead>\n",
       "  <tbody>\n",
       "    <tr>\n",
       "      <th>10</th>\n",
       "      <td>10</td>\n",
       "      <td>10.7</td>\n",
       "      <td>10.7.3</td>\n",
       "      <td>SM_DTH_MIGR</td>\n",
       "      <td>Total deaths and disappearances recorded durin...</td>\n",
       "      <td>4</td>\n",
       "      <td>Afghanistan</td>\n",
       "      <td>2017</td>\n",
       "      <td>10</td>\n",
       "      <td>2017</td>\n",
       "      <td>...</td>\n",
       "      <td>NaN</td>\n",
       "      <td>NaN</td>\n",
       "      <td>NaN</td>\n",
       "      <td>NaN</td>\n",
       "      <td>NaN</td>\n",
       "      <td>NaN</td>\n",
       "      <td>NaN</td>\n",
       "      <td>NaN</td>\n",
       "      <td>NaN</td>\n",
       "      <td>NaN</td>\n",
       "    </tr>\n",
       "    <tr>\n",
       "      <th>11</th>\n",
       "      <td>10</td>\n",
       "      <td>10.7</td>\n",
       "      <td>10.7.3</td>\n",
       "      <td>SM_DTH_MIGR</td>\n",
       "      <td>Total deaths and disappearances recorded durin...</td>\n",
       "      <td>4</td>\n",
       "      <td>Afghanistan</td>\n",
       "      <td>2018</td>\n",
       "      <td>3</td>\n",
       "      <td>2018</td>\n",
       "      <td>...</td>\n",
       "      <td>NaN</td>\n",
       "      <td>NaN</td>\n",
       "      <td>NaN</td>\n",
       "      <td>NaN</td>\n",
       "      <td>NaN</td>\n",
       "      <td>NaN</td>\n",
       "      <td>NaN</td>\n",
       "      <td>NaN</td>\n",
       "      <td>NaN</td>\n",
       "      <td>NaN</td>\n",
       "    </tr>\n",
       "    <tr>\n",
       "      <th>12</th>\n",
       "      <td>10</td>\n",
       "      <td>10.7</td>\n",
       "      <td>10.7.3</td>\n",
       "      <td>SM_DTH_MIGR</td>\n",
       "      <td>Total deaths and disappearances recorded durin...</td>\n",
       "      <td>4</td>\n",
       "      <td>Afghanistan</td>\n",
       "      <td>2019</td>\n",
       "      <td>1</td>\n",
       "      <td>2019</td>\n",
       "      <td>...</td>\n",
       "      <td>NaN</td>\n",
       "      <td>NaN</td>\n",
       "      <td>NaN</td>\n",
       "      <td>NaN</td>\n",
       "      <td>NaN</td>\n",
       "      <td>NaN</td>\n",
       "      <td>NaN</td>\n",
       "      <td>NaN</td>\n",
       "      <td>NaN</td>\n",
       "      <td>NaN</td>\n",
       "    </tr>\n",
       "    <tr>\n",
       "      <th>13</th>\n",
       "      <td>10</td>\n",
       "      <td>10.7</td>\n",
       "      <td>10.7.3</td>\n",
       "      <td>SM_DTH_MIGR</td>\n",
       "      <td>Total deaths and disappearances recorded durin...</td>\n",
       "      <td>4</td>\n",
       "      <td>Afghanistan</td>\n",
       "      <td>2020</td>\n",
       "      <td>11</td>\n",
       "      <td>2020</td>\n",
       "      <td>...</td>\n",
       "      <td>NaN</td>\n",
       "      <td>NaN</td>\n",
       "      <td>NaN</td>\n",
       "      <td>NaN</td>\n",
       "      <td>NaN</td>\n",
       "      <td>NaN</td>\n",
       "      <td>NaN</td>\n",
       "      <td>NaN</td>\n",
       "      <td>NaN</td>\n",
       "      <td>NaN</td>\n",
       "    </tr>\n",
       "    <tr>\n",
       "      <th>14</th>\n",
       "      <td>10</td>\n",
       "      <td>10.7</td>\n",
       "      <td>10.7.3</td>\n",
       "      <td>SM_DTH_MIGR</td>\n",
       "      <td>Total deaths and disappearances recorded durin...</td>\n",
       "      <td>4</td>\n",
       "      <td>Afghanistan</td>\n",
       "      <td>2021</td>\n",
       "      <td>188</td>\n",
       "      <td>2021</td>\n",
       "      <td>...</td>\n",
       "      <td>NaN</td>\n",
       "      <td>NaN</td>\n",
       "      <td>NaN</td>\n",
       "      <td>NaN</td>\n",
       "      <td>NaN</td>\n",
       "      <td>NaN</td>\n",
       "      <td>NaN</td>\n",
       "      <td>NaN</td>\n",
       "      <td>NaN</td>\n",
       "      <td>NaN</td>\n",
       "    </tr>\n",
       "  </tbody>\n",
       "</table>\n",
       "<p>5 rows × 40 columns</p>\n",
       "</div>"
      ],
      "text/plain": [
       "    Goal  Target Indicator   SeriesCode  \\\n",
       "10    10    10.7    10.7.3  SM_DTH_MIGR   \n",
       "11    10    10.7    10.7.3  SM_DTH_MIGR   \n",
       "12    10    10.7    10.7.3  SM_DTH_MIGR   \n",
       "13    10    10.7    10.7.3  SM_DTH_MIGR   \n",
       "14    10    10.7    10.7.3  SM_DTH_MIGR   \n",
       "\n",
       "                                    SeriesDescription  GeoAreaCode  \\\n",
       "10  Total deaths and disappearances recorded durin...            4   \n",
       "11  Total deaths and disappearances recorded durin...            4   \n",
       "12  Total deaths and disappearances recorded durin...            4   \n",
       "13  Total deaths and disappearances recorded durin...            4   \n",
       "14  Total deaths and disappearances recorded durin...            4   \n",
       "\n",
       "    GeoAreaName  TimePeriod  Value  Time_Detail  ...   .10   .11   .12   .13  \\\n",
       "10  Afghanistan        2017     10         2017  ...   NaN   NaN   NaN   NaN   \n",
       "11  Afghanistan        2018      3         2018  ...   NaN   NaN   NaN   NaN   \n",
       "12  Afghanistan        2019      1         2019  ...   NaN   NaN   NaN   NaN   \n",
       "13  Afghanistan        2020     11         2020  ...   NaN   NaN   NaN   NaN   \n",
       "14  Afghanistan        2021    188         2021  ...   NaN   NaN   NaN   NaN   \n",
       "\n",
       "    .14   .15   .16  .17  .18  .19  \n",
       "10  NaN   NaN   NaN  NaN  NaN  NaN  \n",
       "11  NaN   NaN   NaN  NaN  NaN  NaN  \n",
       "12  NaN   NaN   NaN  NaN  NaN  NaN  \n",
       "13  NaN   NaN   NaN  NaN  NaN  NaN  \n",
       "14  NaN   NaN   NaN  NaN  NaN  NaN  \n",
       "\n",
       "[5 rows x 40 columns]"
      ]
     },
     "execution_count": 140,
     "metadata": {},
     "output_type": "execute_result"
    }
   ],
   "source": [
    "# my_val = df_goal[df_goal['TimePeriod']==2020]['Value'].sort_values(ascending=True)\n",
    "cut = df_goal[df_goal['GeoAreaName']!='World']\n",
    "my_val = cut[cut['TimePeriod']==2020]['Value'].sort_values(ascending=True)\n",
    "cut.head()"
   ]
  },
  {
   "cell_type": "code",
   "execution_count": 143,
   "metadata": {},
   "outputs": [
    {
     "data": {
      "text/plain": [
       "147.09634146341463"
      ]
     },
     "execution_count": 143,
     "metadata": {},
     "output_type": "execute_result"
    }
   ],
   "source": [
    "first_quartile = my_val[:int(len(my_val)/2)]\n",
    "second_quartile = my_val[int(len(my_val)/2):]\n",
    "mean1 = first_quartile.mean()\n",
    "mean2 = second_quartile.mean()\n",
    "mean2-mean1\n"
   ]
  },
  {
   "cell_type": "code",
   "execution_count": 144,
   "metadata": {},
   "outputs": [
    {
     "data": {
      "text/plain": [
       "123.0"
      ]
     },
     "execution_count": 144,
     "metadata": {},
     "output_type": "execute_result"
    }
   ],
   "source": [
    "q1 = np.percentile(my_val,25)\n",
    "q3 = np.percentile(my_val,75)\n",
    "q3-q1"
   ]
  }
 ],
 "metadata": {
  "kernelspec": {
   "display_name": "Red",
   "language": "python",
   "name": "python3"
  },
  "language_info": {
   "codemirror_mode": {
    "name": "ipython",
    "version": 3
   },
   "file_extension": ".py",
   "mimetype": "text/x-python",
   "name": "python",
   "nbconvert_exporter": "python",
   "pygments_lexer": "ipython3",
   "version": "3.11.7"
  }
 },
 "nbformat": 4,
 "nbformat_minor": 2
}
