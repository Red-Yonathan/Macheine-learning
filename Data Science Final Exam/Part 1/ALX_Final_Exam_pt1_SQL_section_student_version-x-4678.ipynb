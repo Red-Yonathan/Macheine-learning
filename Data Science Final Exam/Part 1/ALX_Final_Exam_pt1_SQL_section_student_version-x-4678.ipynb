{
  "cells": [
    {
      "cell_type": "markdown",
      "metadata": {
        "id": "O3uhQEw4Jqnt"
      },
      "source": [
        "# Gather Section (20 Questions, 40 Marks)\n",
        "\n",
        "You should have access to a file called TMDB.db. The first step to answering this set of questions will be to connect to this db file to access the data. \n",
        "\n",
        "![SQL Architectures](https://raw.githubusercontent.com/Explore-AI/Public-Data/master/image/TMDB_ERD.JPG)\n",
        "\n",
        "Before we start we need to load our SQL magic commands (we only need do this once per notebook):"
      ]
    },
    {
      "cell_type": "code",
      "execution_count": 2,
      "metadata": {
        "id": "tYyzGpQrJqnv"
      },
      "outputs": [],
      "source": [
        "%load_ext sql"
      ]
    },
    {
      "cell_type": "markdown",
      "metadata": {
        "id": "ok5TGOw3Jqnw"
      },
      "source": [
        "*Note: we have to prepend a Jupyter notebook cell with `%%sql` in order to run a SQL query. Place your code in the '# Your code here' lines. If you experience trouble connecting to the .db file, please ensure that you have the `pymysql` and `ipython-sql` packages installed. Also ensure that `sqlalchemy` is pinned at a version <2.*\n",
        "\n",
        "\n",
        "Based on that data, answer the following questions:\n",
        "\n",
        "\n",
        "### Question 11\n",
        "What is the code you can use to connect to the TMBD database that is saved in the same location with the Jupyter notebook?\n"
      ]
    },
    {
      "cell_type": "code",
      "execution_count": null,
      "metadata": {
        "id": "bkHzM8QXJqnw"
      },
      "outputs": [],
      "source": [
        "%%sql \n",
        "sqlite:///TMDB.db\n",
        "SELECT * FROM ProductionCompanies\n"
      ]
    },
    {
      "cell_type": "markdown",
      "metadata": {
        "id": "JgRO7x1-Jqnx"
      },
      "source": [
        "### Question 12\n",
        "What is the primary key for the table “movies”?\n",
        "\n"
      ]
    },
    {
      "cell_type": "markdown",
      "metadata": {
        "id": "KSkdaG_iJqnx"
      },
      "source": [
        "### Question 13\n",
        "How many foreign keys does the “languagemap” table have?\n",
        "\n"
      ]
    },
    {
      "cell_type": "markdown",
      "metadata": {
        "id": "eO7T-b9AJqnx"
      },
      "source": [
        "### Question 14\n",
        "What code would you use to set up a view of all movies that did not get released?\n"
      ]
    },
    {
      "cell_type": "code",
      "execution_count": null,
      "metadata": {
        "id": "8FTBNKnlJqny"
      },
      "outputs": [],
      "source": [
        "%%sql \n",
        "# Your code here"
      ]
    },
    {
      "cell_type": "markdown",
      "metadata": {
        "id": "GxuX_z8iJqny"
      },
      "source": [
        "### Question 15\n",
        "How would you select only the title, release date, and release status columns from the view you created in the previous question?\n"
      ]
    },
    {
      "cell_type": "code",
      "execution_count": null,
      "metadata": {
        "id": "7E0ZI_d9Jqnz"
      },
      "outputs": [],
      "source": [
        "%%sql \n",
        "# Your code here"
      ]
    },
    {
      "cell_type": "markdown",
      "metadata": {
        "id": "WYqGtSSkJqnz"
      },
      "source": [
        "### Question 16\n",
        "How many movies are no longer using their original titles?\n",
        "\n"
      ]
    },
    {
      "cell_type": "code",
      "execution_count": 12,
      "metadata": {
        "id": "4l4MbDo2Jqn0"
      },
      "outputs": [
        {
          "name": "stdout",
          "output_type": "stream",
          "text": [
            " * sqlite:///TMDB.db\n",
            "Done.\n"
          ]
        },
        {
          "data": {
            "text/html": [
              "<table>\n",
              "    <thead>\n",
              "        <tr>\n",
              "            <th>different_titles_count</th>\n",
              "        </tr>\n",
              "    </thead>\n",
              "    <tbody>\n",
              "        <tr>\n",
              "            <td>261</td>\n",
              "        </tr>\n",
              "    </tbody>\n",
              "</table>"
            ],
            "text/plain": [
              "[(261,)]"
            ]
          },
          "execution_count": 12,
          "metadata": {},
          "output_type": "execute_result"
        }
      ],
      "source": [
        "%%sql \n",
        "\n",
        "SELECT COUNT(*) AS different_titles_count\n",
        "FROM Movies\n",
        "WHERE title <> original_title;"
      ]
    },
    {
      "cell_type": "markdown",
      "metadata": {
        "id": "_ZJuNLfPJqn0"
      },
      "source": [
        "### Question 17\n",
        "What is the most popular movie that was made after 01/01/2000 with a budget of more than $100 000 000? (Hint: Use the popularity field in the Movies table. Larger numbers are more popular.)\n"
      ]
    },
    {
      "cell_type": "code",
      "execution_count": 13,
      "metadata": {
        "id": "AY2PN5HzJqn0"
      },
      "outputs": [
        {
          "name": "stdout",
          "output_type": "stream",
          "text": [
            " * sqlite:///TMDB.db\n",
            "Done.\n"
          ]
        },
        {
          "data": {
            "text/html": [
              "<table>\n",
              "    <thead>\n",
              "        <tr>\n",
              "            <th>title</th>\n",
              "            <th>popularity</th>\n",
              "        </tr>\n",
              "    </thead>\n",
              "    <tbody>\n",
              "        <tr>\n",
              "            <td>Interstellar</td>\n",
              "            <td>724.247784</td>\n",
              "        </tr>\n",
              "    </tbody>\n",
              "</table>"
            ],
            "text/plain": [
              "[('Interstellar', 724.247784)]"
            ]
          },
          "execution_count": 13,
          "metadata": {},
          "output_type": "execute_result"
        }
      ],
      "source": [
        "%%sql \n",
        "SELECT title, popularity\n",
        "FROM Movies\n",
        "WHERE release_date > '2000-01-01' AND budget > 100000000\n",
        "ORDER BY popularity DESC\n",
        "LIMIT 1;"
      ]
    },
    {
      "cell_type": "markdown",
      "metadata": {
        "id": "CfRuCZ68Jqn0"
      },
      "source": [
        "### Question 18\n",
        "How many movies are there that do not have English as their original language? \n",
        "\n"
      ]
    },
    {
      "cell_type": "code",
      "execution_count": 14,
      "metadata": {
        "id": "xptzYlgmJqn1"
      },
      "outputs": [
        {
          "name": "stdout",
          "output_type": "stream",
          "text": [
            " * sqlite:///TMDB.db\n",
            "Done.\n"
          ]
        },
        {
          "data": {
            "text/html": [
              "<table>\n",
              "    <thead>\n",
              "        <tr>\n",
              "            <th>non_english_movies_count</th>\n",
              "        </tr>\n",
              "    </thead>\n",
              "    <tbody>\n",
              "        <tr>\n",
              "            <td>298</td>\n",
              "        </tr>\n",
              "    </tbody>\n",
              "</table>"
            ],
            "text/plain": [
              "[(298,)]"
            ]
          },
          "execution_count": 14,
          "metadata": {},
          "output_type": "execute_result"
        }
      ],
      "source": [
        "%%sql \n",
        "SELECT COUNT(*) AS non_english_movies_count\n",
        "FROM Movies\n",
        "WHERE original_language <> 'en';"
      ]
    },
    {
      "cell_type": "markdown",
      "metadata": {
        "id": "Xrn3qSOTJqn1"
      },
      "source": [
        "### Question 19\n",
        "How many movies in the database were produced by Pixar Animation Studios?\n",
        "\n"
      ]
    },
    {
      "cell_type": "code",
      "execution_count": 21,
      "metadata": {},
      "outputs": [
        {
          "name": "stdout",
          "output_type": "stream",
          "text": [
            " * sqlite:///TMDB.db\n",
            "Done.\n"
          ]
        },
        {
          "data": {
            "text/html": [
              "<table>\n",
              "    <thead>\n",
              "        <tr>\n",
              "            <th>cid</th>\n",
              "            <th>name</th>\n",
              "            <th>type</th>\n",
              "            <th>notnull</th>\n",
              "            <th>dflt_value</th>\n",
              "            <th>pk</th>\n",
              "        </tr>\n",
              "    </thead>\n",
              "    <tbody>\n",
              "        <tr>\n",
              "            <td>0</td>\n",
              "            <td>production_company_id</td>\n",
              "            <td>INTEGER</td>\n",
              "            <td>1</td>\n",
              "            <td>None</td>\n",
              "            <td>1</td>\n",
              "        </tr>\n",
              "        <tr>\n",
              "            <td>1</td>\n",
              "            <td>production_company_name</td>\n",
              "            <td>varchar(500)</td>\n",
              "            <td>0</td>\n",
              "            <td>NULL</td>\n",
              "            <td>0</td>\n",
              "        </tr>\n",
              "    </tbody>\n",
              "</table>"
            ],
            "text/plain": [
              "[(0, 'production_company_id', 'INTEGER', 1, None, 1),\n",
              " (1, 'production_company_name', 'varchar(500)', 0, 'NULL', 0)]"
            ]
          },
          "execution_count": 21,
          "metadata": {},
          "output_type": "execute_result"
        }
      ],
      "source": [
        "%%sql\n",
        "\n"
      ]
    },
    {
      "cell_type": "code",
      "execution_count": 16,
      "metadata": {
        "id": "KaZyZChwJqn2"
      },
      "outputs": [
        {
          "name": "stdout",
          "output_type": "stream",
          "text": [
            " * sqlite:///TMDB.db\n",
            "(sqlite3.OperationalError) no such column: ProductionCompanies\n",
            "[SQL: SELECT COUNT(*) AS pixar_movies_count\n",
            "FROM Movies\n",
            "WHERE ProductionCompanies LIKE '%Pixar Animation Studios%';]\n",
            "(Background on this error at: https://sqlalche.me/e/14/e3q8)\n"
          ]
        }
      ],
      "source": [
        "%%sql \n",
        "SELECT COUNT(*) AS pixar_movies_count\n",
        "FROM Movies\n",
        "WHERE ProductionCompanies LIKE '%Pixar Animation Studios%';"
      ]
    },
    {
      "cell_type": "markdown",
      "metadata": {
        "id": "_ewCIJeBJqn2"
      },
      "source": [
        "### Question 20\n",
        "How many movies are in the database that are both a Romance and a Comedy?\n"
      ]
    },
    {
      "cell_type": "code",
      "execution_count": 32,
      "metadata": {},
      "outputs": [
        {
          "name": "stdout",
          "output_type": "stream",
          "text": [
            " * sqlite:///TMDB.db\n",
            "Done.\n"
          ]
        },
        {
          "data": {
            "text/html": [
              "<table>\n",
              "    <thead>\n",
              "        <tr>\n",
              "            <th>cid</th>\n",
              "            <th>name</th>\n",
              "            <th>type</th>\n",
              "            <th>notnull</th>\n",
              "            <th>dflt_value</th>\n",
              "            <th>pk</th>\n",
              "        </tr>\n",
              "    </thead>\n",
              "    <tbody>\n",
              "        <tr>\n",
              "            <td>0</td>\n",
              "            <td>genre_id</td>\n",
              "            <td>INTEGER</td>\n",
              "            <td>1</td>\n",
              "            <td>None</td>\n",
              "            <td>1</td>\n",
              "        </tr>\n",
              "        <tr>\n",
              "            <td>1</td>\n",
              "            <td>genre_name</td>\n",
              "            <td>varchar(50)</td>\n",
              "            <td>0</td>\n",
              "            <td>NULL</td>\n",
              "            <td>0</td>\n",
              "        </tr>\n",
              "    </tbody>\n",
              "</table>"
            ],
            "text/plain": [
              "[(0, 'genre_id', 'INTEGER', 1, None, 1),\n",
              " (1, 'genre_name', 'varchar(50)', 0, 'NULL', 0)]"
            ]
          },
          "execution_count": 32,
          "metadata": {},
          "output_type": "execute_result"
        }
      ],
      "source": [
        "%%sql\n",
        "PRAGMA table_info(Genres);\n"
      ]
    },
    {
      "cell_type": "code",
      "execution_count": 26,
      "metadata": {},
      "outputs": [
        {
          "name": "stdout",
          "output_type": "stream",
          "text": [
            " * sqlite:///TMDB.db\n",
            "Done.\n"
          ]
        },
        {
          "data": {
            "text/html": [
              "<table>\n",
              "    <thead>\n",
              "        <tr>\n",
              "            <th>cid</th>\n",
              "            <th>name</th>\n",
              "            <th>type</th>\n",
              "            <th>notnull</th>\n",
              "            <th>dflt_value</th>\n",
              "            <th>pk</th>\n",
              "        </tr>\n",
              "    </thead>\n",
              "    <tbody>\n",
              "        <tr>\n",
              "            <td>0</td>\n",
              "            <td>movie_id</td>\n",
              "            <td>INTEGER</td>\n",
              "            <td>1</td>\n",
              "            <td>None</td>\n",
              "            <td>1</td>\n",
              "        </tr>\n",
              "        <tr>\n",
              "            <td>1</td>\n",
              "            <td>title</td>\n",
              "            <td>varchar(500)</td>\n",
              "            <td>0</td>\n",
              "            <td>NULL</td>\n",
              "            <td>0</td>\n",
              "        </tr>\n",
              "        <tr>\n",
              "            <td>2</td>\n",
              "            <td>release_date</td>\n",
              "            <td>datetime(6)</td>\n",
              "            <td>0</td>\n",
              "            <td>NULL</td>\n",
              "            <td>0</td>\n",
              "        </tr>\n",
              "        <tr>\n",
              "            <td>3</td>\n",
              "            <td>budget</td>\n",
              "            <td>INTEGER</td>\n",
              "            <td>0</td>\n",
              "            <td>NULL</td>\n",
              "            <td>0</td>\n",
              "        </tr>\n",
              "        <tr>\n",
              "            <td>4</td>\n",
              "            <td>homepage</td>\n",
              "            <td>varchar(500)</td>\n",
              "            <td>0</td>\n",
              "            <td>NULL</td>\n",
              "            <td>0</td>\n",
              "        </tr>\n",
              "        <tr>\n",
              "            <td>5</td>\n",
              "            <td>original_language</td>\n",
              "            <td>varchar(50)</td>\n",
              "            <td>0</td>\n",
              "            <td>NULL</td>\n",
              "            <td>0</td>\n",
              "        </tr>\n",
              "        <tr>\n",
              "            <td>6</td>\n",
              "            <td>original_title</td>\n",
              "            <td>varchar(500)</td>\n",
              "            <td>0</td>\n",
              "            <td>NULL</td>\n",
              "            <td>0</td>\n",
              "        </tr>\n",
              "        <tr>\n",
              "            <td>7</td>\n",
              "            <td>overview</td>\n",
              "            <td>varchar(5000)</td>\n",
              "            <td>0</td>\n",
              "            <td>NULL</td>\n",
              "            <td>0</td>\n",
              "        </tr>\n",
              "        <tr>\n",
              "            <td>8</td>\n",
              "            <td>popularity</td>\n",
              "            <td>double</td>\n",
              "            <td>0</td>\n",
              "            <td>NULL</td>\n",
              "            <td>0</td>\n",
              "        </tr>\n",
              "        <tr>\n",
              "            <td>9</td>\n",
              "            <td>revenue</td>\n",
              "            <td>double</td>\n",
              "            <td>0</td>\n",
              "            <td>NULL</td>\n",
              "            <td>0</td>\n",
              "        </tr>\n",
              "        <tr>\n",
              "            <td>10</td>\n",
              "            <td>runtime</td>\n",
              "            <td>double</td>\n",
              "            <td>0</td>\n",
              "            <td>NULL</td>\n",
              "            <td>0</td>\n",
              "        </tr>\n",
              "        <tr>\n",
              "            <td>11</td>\n",
              "            <td>release_status</td>\n",
              "            <td>varchar(50)</td>\n",
              "            <td>0</td>\n",
              "            <td>NULL</td>\n",
              "            <td>0</td>\n",
              "        </tr>\n",
              "        <tr>\n",
              "            <td>12</td>\n",
              "            <td>tagline</td>\n",
              "            <td>varchar(500)</td>\n",
              "            <td>0</td>\n",
              "            <td>NULL</td>\n",
              "            <td>0</td>\n",
              "        </tr>\n",
              "        <tr>\n",
              "            <td>13</td>\n",
              "            <td>vote_average</td>\n",
              "            <td>double</td>\n",
              "            <td>0</td>\n",
              "            <td>NULL</td>\n",
              "            <td>0</td>\n",
              "        </tr>\n",
              "        <tr>\n",
              "            <td>14</td>\n",
              "            <td>vote_count</td>\n",
              "            <td>INTEGER</td>\n",
              "            <td>0</td>\n",
              "            <td>NULL</td>\n",
              "            <td>0</td>\n",
              "        </tr>\n",
              "    </tbody>\n",
              "</table>"
            ],
            "text/plain": [
              "[(0, 'movie_id', 'INTEGER', 1, None, 1),\n",
              " (1, 'title', 'varchar(500)', 0, 'NULL', 0),\n",
              " (2, 'release_date', 'datetime(6)', 0, 'NULL', 0),\n",
              " (3, 'budget', 'INTEGER', 0, 'NULL', 0),\n",
              " (4, 'homepage', 'varchar(500)', 0, 'NULL', 0),\n",
              " (5, 'original_language', 'varchar(50)', 0, 'NULL', 0),\n",
              " (6, 'original_title', 'varchar(500)', 0, 'NULL', 0),\n",
              " (7, 'overview', 'varchar(5000)', 0, 'NULL', 0),\n",
              " (8, 'popularity', 'double', 0, 'NULL', 0),\n",
              " (9, 'revenue', 'double', 0, 'NULL', 0),\n",
              " (10, 'runtime', 'double', 0, 'NULL', 0),\n",
              " (11, 'release_status', 'varchar(50)', 0, 'NULL', 0),\n",
              " (12, 'tagline', 'varchar(500)', 0, 'NULL', 0),\n",
              " (13, 'vote_average', 'double', 0, 'NULL', 0),\n",
              " (14, 'vote_count', 'INTEGER', 0, 'NULL', 0)]"
            ]
          },
          "execution_count": 26,
          "metadata": {},
          "output_type": "execute_result"
        }
      ],
      "source": [
        "%%sql\n",
        "PRAGMA table_info(Movies);\n"
      ]
    },
    {
      "cell_type": "code",
      "execution_count": 37,
      "metadata": {
        "id": "4plDKomDJqn2"
      },
      "outputs": [
        {
          "name": "stdout",
          "output_type": "stream",
          "text": [
            " * sqlite:///TMDB.db\n",
            "Done.\n"
          ]
        },
        {
          "data": {
            "text/html": [
              "<table>\n",
              "    <thead>\n",
              "        <tr>\n",
              "            <th>romance_comedy_count</th>\n",
              "        </tr>\n",
              "    </thead>\n",
              "    <tbody>\n",
              "    </tbody>\n",
              "</table>"
            ],
            "text/plain": [
              "[]"
            ]
          },
          "execution_count": 37,
          "metadata": {},
          "output_type": "execute_result"
        }
      ],
      "source": [
        "%%sql \n",
        "SELECT COUNT(DISTINCT movie_id) AS romance_comedy_count\n",
        "FROM Movies title\n",
        "JOIN Genres genre_name ON movie_id = genre_id\n",
        "WHERE genre_name IN ('Romance', 'Comedy')\n",
        "GROUP BY movie_id\n",
        "HAVING COUNT(DISTINCT genre_name) = 2;\n"
      ]
    },
    {
      "cell_type": "markdown",
      "metadata": {
        "id": "SRlyr7qcJqn2"
      },
      "source": [
        "### Question 21\n",
        "What is the most popular action movie that has some German in it? (Hint: The German word for German is Deutsch)"
      ]
    },
    {
      "cell_type": "code",
      "execution_count": null,
      "metadata": {
        "id": "9aS6m4uxJqn3"
      },
      "outputs": [],
      "source": [
        "%%sql \n",
        "# Your code here"
      ]
    },
    {
      "cell_type": "markdown",
      "metadata": {
        "id": "1z4656wQJqn3"
      },
      "source": [
        "### Question 22\n",
        "In how many movies did Tom Cruise portray the character Ethan Hunt?\n",
        "\n"
      ]
    },
    {
      "cell_type": "code",
      "execution_count": null,
      "metadata": {
        "id": "CiuwUD-NJqn3"
      },
      "outputs": [],
      "source": [
        "%%sql \n",
        "# Your code here"
      ]
    },
    {
      "cell_type": "markdown",
      "metadata": {
        "id": "cUsRwRKJJqn3"
      },
      "source": [
        "### Question 23 \n",
        "How many times was the actress Cate Blanchett nominated for an Oscar?"
      ]
    },
    {
      "cell_type": "code",
      "execution_count": null,
      "metadata": {
        "id": "JV_kvB2nJqn3"
      },
      "outputs": [],
      "source": [
        "%%sql \n",
        "# Your code here"
      ]
    },
    {
      "cell_type": "markdown",
      "metadata": {
        "id": "W8AUQIETJqn4"
      },
      "source": [
        "### Question 24\n",
        "How many movies contain at least one of the official South African Languages, Afrikaans or Zulu?"
      ]
    },
    {
      "cell_type": "code",
      "execution_count": null,
      "metadata": {
        "id": "VzRS8ueKJqn4"
      },
      "outputs": [],
      "source": [
        "%%sql \n",
        "# Your code here"
      ]
    },
    {
      "cell_type": "markdown",
      "metadata": {
        "id": "F_qQO_h7Jqn4"
      },
      "source": [
        "### Question 25\n",
        "Which of the movies mentioned above is the most popular?\n"
      ]
    },
    {
      "cell_type": "code",
      "execution_count": null,
      "metadata": {
        "id": "U502HuAJJqn4"
      },
      "outputs": [],
      "source": [
        "%%sql \n",
        "# Your code here"
      ]
    },
    {
      "cell_type": "markdown",
      "metadata": {
        "id": "eJltWXG3Jqn5"
      },
      "source": [
        "### Question 26\n",
        "What would be the code to change the name of the language with the ‘zh’ iso code in the “language” table to ‘Chinese’?\n"
      ]
    },
    {
      "cell_type": "code",
      "execution_count": null,
      "metadata": {
        "id": "1mxP-GuPJqn5"
      },
      "outputs": [],
      "source": [
        "%%sql \n",
        "# Your code here"
      ]
    },
    {
      "cell_type": "markdown",
      "metadata": {
        "id": "B2vmIMtTJqn5"
      },
      "source": [
        "### Question 27\n",
        "What would be the code to insert a new genre called ‘Sport’ with an id of 10? \n"
      ]
    },
    {
      "cell_type": "code",
      "execution_count": null,
      "metadata": {
        "id": "KxHhto3QJqn5"
      },
      "outputs": [],
      "source": [
        "%%sql \n",
        "# Your code here"
      ]
    },
    {
      "cell_type": "markdown",
      "metadata": {
        "id": "wJLGKPNqJqn5"
      },
      "source": [
        "### Question 28 \n",
        "You have just watched The Flintstones movie and did not find it very funny. What code would delete the entry that links The Flintstones to the Comedy genre?\n"
      ]
    },
    {
      "cell_type": "code",
      "execution_count": null,
      "metadata": {
        "id": "ClMS3iSiJqn5"
      },
      "outputs": [],
      "source": [
        "%%sql \n",
        "# Your code here"
      ]
    },
    {
      "cell_type": "markdown",
      "metadata": {
        "id": "ZHMUw-F3Jqn5"
      },
      "source": [
        "### Question 29\n",
        "What code will give the 10 most recently released movies in the database? \n"
      ]
    },
    {
      "cell_type": "code",
      "execution_count": null,
      "metadata": {
        "id": "T7ZoP3zHJqn6"
      },
      "outputs": [],
      "source": [
        "%%sql \n",
        "# Your code here"
      ]
    },
    {
      "cell_type": "markdown",
      "metadata": {
        "id": "vf3P99TuJqn6"
      },
      "source": [
        "### Question 30\n",
        "What code would you use to add a column to the language table that could be used for the English names of the different languages?"
      ]
    },
    {
      "cell_type": "code",
      "execution_count": null,
      "metadata": {
        "id": "UTxH_gcCJqn6"
      },
      "outputs": [],
      "source": [
        "%%sql \n",
        "# Your code here"
      ]
    }
  ],
  "metadata": {
    "colab": {
      "name": "EDSA Final Exam pt1_SQL section_student version.ipynb",
      "provenance": []
    },
    "kernelspec": {
      "display_name": "Python 3",
      "language": "python",
      "name": "python3"
    },
    "language_info": {
      "codemirror_mode": {
        "name": "ipython",
        "version": 3
      },
      "file_extension": ".py",
      "mimetype": "text/x-python",
      "name": "python",
      "nbconvert_exporter": "python",
      "pygments_lexer": "ipython3",
      "version": "3.11.7"
    }
  },
  "nbformat": 4,
  "nbformat_minor": 0
}
